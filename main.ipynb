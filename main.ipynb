{
 "cells": [
  {
   "cell_type": "markdown",
   "source": [
    "__COMP9727 PROJECT:A STEAM GAME RECOMMENDER SYSTEM__\n"
   ],
   "metadata": {
    "collapsed": false
   }
  },
  {
   "cell_type": "markdown",
   "source": [
    "# Introduction\n",
    "This model is a recommender system for Steam games. It is based on the dataset from Steam, which is a digital distribution platform for video games. The dataset contains 316 games and 21 million users. The recommender system is based on collaborative filtering and content based model. The system integrates the recommender module and a user interaction module."
   ],
   "metadata": {
    "collapsed": false
   }
  },
  {
   "cell_type": "markdown",
   "source": [
    "__PIPELINE__:\n",
    "1. Data preprocessing, Analysis and Visualization\n",
    "2. Extracting features from the game dataset, build feature vectors for games. The item vector is a hierarchical structure. First, for the description, use text vectorization technology (such as TF-IDF or Word2Vec) to process the description text of the game to generate a dense numerical vector for each game. For Tags, we still use TF-IDF. But since the game tag describes the game more significantly, we manually increase the TF-IDF weight of the tag."
   ],
   "metadata": {
    "collapsed": false
   }
  },
  {
   "cell_type": "markdown",
   "source": [
    "__Inporting Libraries__"
   ],
   "metadata": {
    "collapsed": false
   }
  },
  {
   "cell_type": "code",
   "execution_count": 3,
   "outputs": [],
   "source": [
    "import pandas as pd\n",
    "from sklearn.feature_extraction.text import TfidfVectorizer"
   ],
   "metadata": {
    "collapsed": false,
    "ExecuteTime": {
     "end_time": "2023-11-07T11:05:13.237615500Z",
     "start_time": "2023-11-07T11:05:11.771106100Z"
    }
   }
  },
  {
   "cell_type": "markdown",
   "source": [
    "__Data Preprocessing__"
   ],
   "metadata": {
    "collapsed": false
   }
  },
  {
   "cell_type": "code",
   "execution_count": 4,
   "outputs": [],
   "source": [
    "file_path_reviews = \"steam_reviews.csv\"\n",
    "file_path_desc = \"desc.csv\"\n",
    "file_path_tags = \"tags.csv\"\n",
    "\n",
    "df_reviews = pd.read_csv(file_path_reviews)\n",
    "df_desc = pd.read_csv(file_path_desc)\n",
    "df_tags = pd.read_csv(file_path_tags)"
   ],
   "metadata": {
    "collapsed": false,
    "ExecuteTime": {
     "end_time": "2023-11-07T11:05:40.860950900Z",
     "start_time": "2023-11-07T11:05:13.239700200Z"
    }
   }
  },
  {
   "cell_type": "code",
   "execution_count": 5,
   "outputs": [
    {
     "name": "stdout",
     "output_type": "stream",
     "text": [
      "          Unnamed: 0  app_id                  app_name  review_id  language  \\\n",
      "0                  0  292030  The Witcher 3: Wild Hunt   85185598  schinese   \n",
      "1                  1  292030  The Witcher 3: Wild Hunt   85185250  schinese   \n",
      "2                  2  292030  The Witcher 3: Wild Hunt   85185111  schinese   \n",
      "3                  3  292030  The Witcher 3: Wild Hunt   85184605   english   \n",
      "4                  4  292030  The Witcher 3: Wild Hunt   85184287  schinese   \n",
      "...              ...     ...                       ...        ...       ...   \n",
      "21747366    21747371  546560           Half-Life: Alyx   65645125   english   \n",
      "21747367    21747372  546560           Half-Life: Alyx   65645115   english   \n",
      "21747368    21747373  546560           Half-Life: Alyx   65645100   english   \n",
      "21747369    21747374  546560           Half-Life: Alyx   65645066   english   \n",
      "21747370    21747375  546560           Half-Life: Alyx   65644930  schinese   \n",
      "\n",
      "          timestamp_created  timestamp_updated  recommended  votes_helpful  \\\n",
      "0                1611381629         1611381629         True              0   \n",
      "1                1611381030         1611381030         True              0   \n",
      "2                1611380800         1611380800         True              0   \n",
      "3                1611379970         1611379970         True              0   \n",
      "4                1611379427         1611379427         True              0   \n",
      "...                     ...                ...          ...            ...   \n",
      "21747366         1584986704         1584986704         True              0   \n",
      "21747367         1584986693         1584986693         True              0   \n",
      "21747368         1584986673         1584986673         True              0   \n",
      "21747369         1584986631         1586382422         True              0   \n",
      "21747370         1584986505         1592060800         True              0   \n",
      "\n",
      "          votes_funny  ...  received_for_free  written_during_early_access  \\\n",
      "0                   0  ...              False                        False   \n",
      "1                   0  ...              False                        False   \n",
      "2                   0  ...              False                        False   \n",
      "3                   0  ...              False                        False   \n",
      "4                   0  ...              False                        False   \n",
      "...               ...  ...                ...                          ...   \n",
      "21747366            0  ...              False                        False   \n",
      "21747367            0  ...              False                        False   \n",
      "21747368            0  ...              False                        False   \n",
      "21747369            0  ...              False                        False   \n",
      "21747370            0  ...              False                        False   \n",
      "\n",
      "             author.steamid  author.num_games_owned  author.num_reviews  \\\n",
      "0         76561199095369542                       6                   2   \n",
      "1         76561198949504115                      30                  10   \n",
      "2         76561199090098988                       5                   1   \n",
      "3         76561199054755373                       5                   3   \n",
      "4         76561199028326951                       7                   4   \n",
      "...                     ...                     ...                 ...   \n",
      "21747366  76561197967033932                     431                   7   \n",
      "21747367  76561198046495482                      70                  10   \n",
      "21747368  76561198176379749                      79                  17   \n",
      "21747369  76561198041763187                     140                   3   \n",
      "21747370  76561198116747069                     253                   7   \n",
      "\n",
      "          author.playtime_forever  author.playtime_last_two_weeks  \\\n",
      "0                          1909.0                          1448.0   \n",
      "1                          2764.0                          2743.0   \n",
      "2                          1061.0                          1061.0   \n",
      "3                          5587.0                          3200.0   \n",
      "4                           217.0                            42.0   \n",
      "...                           ...                             ...   \n",
      "21747366                    432.0                             0.0   \n",
      "21747367                   3296.0                            15.0   \n",
      "21747368                   2654.0                             0.0   \n",
      "21747369                    210.0                             0.0   \n",
      "21747370                   1062.0                             0.0   \n",
      "\n",
      "          author.playtime_at_review  author.last_played      id  \n",
      "0                            1909.0        1.611343e+09  292030  \n",
      "1                            2674.0        1.611386e+09  292030  \n",
      "2                            1060.0        1.611384e+09  292030  \n",
      "3                            5524.0        1.611384e+09  292030  \n",
      "4                             217.0        1.610788e+09  292030  \n",
      "...                             ...                 ...     ...  \n",
      "21747366                       29.0        1.586628e+09  546560  \n",
      "21747367                       24.0        1.611080e+09  546560  \n",
      "21747368                       34.0        1.591634e+09  546560  \n",
      "21747369                       12.0        1.589715e+09  546560  \n",
      "21747370                        8.0        1.602858e+09  546560  \n",
      "\n",
      "[21747371 rows x 23 columns]\n",
      "         id                                  short_description\n",
      "0    420530  OneShot is a surreal top down Puzzle/Adventure...\n",
      "1    400940  Budget Cuts is a VR stealth game where you dex...\n",
      "2    457140  Oxygen Not Included is a space-colony simulati...\n",
      "3    252490  The only aim in Rust is to survive. Everything...\n",
      "4    447820  Experience close-quarters battles in iconic WW...\n",
      "..      ...                                                ...\n",
      "310  382310  Create a civilization capable of stopping a me...\n",
      "311  626690  Experience an original story where you are the...\n",
      "312  413410  Investigate murders, search for clues and talk...\n",
      "313  460930  Create a team with up to 3 friends in Tom Clan...\n",
      "314  214950  Emperor Edition is the definitive edition of R...\n",
      "\n",
      "[315 rows x 2 columns]\n",
      "     app_id                                               tags\n",
      "0    292030  ['Open World', 'RPG', 'Story Rich', 'Atmospher...\n",
      "1        70  ['FPS', 'Classic', 'Sci-fi', \"1990's\", 'Single...\n",
      "2       240  ['Shooter', 'FPS', 'Action', 'Multiplayer', 'T...\n",
      "3       420  ['FPS', 'Action', 'Sci-fi', 'Singleplayer', 'S...\n",
      "4       620  ['Platformer', 'Puzzle', 'Dark Humor', 'First-...\n",
      "..      ...                                                ...\n",
      "310  530070  ['Simulation', 'Trains', 'Realistic', 'Driving...\n",
      "311  574050  ['RPG', 'Action', 'Hack and Slash', 'JRPG', 'A...\n",
      "312  572410  ['World War II', 'Strategy', 'RTS', 'Military'...\n",
      "313  421020  ['Racing', 'Simulation', 'Automobile Sim', 'Mu...\n",
      "314  546560  ['VR', 'FPS', 'Story Rich', 'Horror', 'Female ...\n",
      "\n",
      "[315 rows x 2 columns]\n"
     ]
    }
   ],
   "source": [
    "print(df_reviews)\n",
    "print(df_desc)\n",
    "print(df_tags)"
   ],
   "metadata": {
    "collapsed": false,
    "ExecuteTime": {
     "end_time": "2023-11-07T11:05:42.913837100Z",
     "start_time": "2023-11-07T11:05:40.860950900Z"
    }
   }
  },
  {
   "cell_type": "markdown",
   "source": [
    "__Extracting Features from the description dataset and the tags dataset__"
   ],
   "metadata": {
    "collapsed": false
   }
  },
  {
   "cell_type": "code",
   "execution_count": 13,
   "outputs": [
    {
     "ename": "SyntaxError",
     "evalue": "invalid syntax (<unknown>, line 1)",
     "output_type": "error",
     "traceback": [
      "Traceback \u001B[1;36m(most recent call last)\u001B[0m:\n",
      "  File \u001B[0;32m\"C:\\ProgramData\\Anaconda3\\lib\\site-packages\\IPython\\core\\interactiveshell.py\"\u001B[0m, line \u001B[0;32m3457\u001B[0m, in \u001B[0;35mrun_code\u001B[0m\n    exec(code_obj, self.user_global_ns, self.user_ns)\n",
      "  File \u001B[0;32m\"C:\\Users\\Daiyi\\AppData\\Local\\Temp\\ipykernel_8972\\1116755296.py\"\u001B[0m, line \u001B[0;32m6\u001B[0m, in \u001B[0;35m<module>\u001B[0m\n    df_tags['tags'] = df_tags['tags'].apply(lambda x: ' '.join(ast.literal_eval(x)))\n",
      "  File \u001B[0;32m\"C:\\ProgramData\\Anaconda3\\lib\\site-packages\\pandas\\core\\series.py\"\u001B[0m, line \u001B[0;32m4433\u001B[0m, in \u001B[0;35mapply\u001B[0m\n    return SeriesApply(self, func, convert_dtype, args, kwargs).apply()\n",
      "  File \u001B[0;32m\"C:\\ProgramData\\Anaconda3\\lib\\site-packages\\pandas\\core\\apply.py\"\u001B[0m, line \u001B[0;32m1088\u001B[0m, in \u001B[0;35mapply\u001B[0m\n    return self.apply_standard()\n",
      "  File \u001B[0;32m\"C:\\ProgramData\\Anaconda3\\lib\\site-packages\\pandas\\core\\apply.py\"\u001B[0m, line \u001B[0;32m1143\u001B[0m, in \u001B[0;35mapply_standard\u001B[0m\n    mapped = lib.map_infer(\n",
      "  File \u001B[0;32m\"pandas\\_libs\\lib.pyx\"\u001B[0m, line \u001B[0;32m2870\u001B[0m, in \u001B[0;35mpandas._libs.lib.map_infer\u001B[0m\n",
      "  File \u001B[0;32m\"C:\\Users\\Daiyi\\AppData\\Local\\Temp\\ipykernel_8972\\1116755296.py\"\u001B[0m, line \u001B[0;32m6\u001B[0m, in \u001B[0;35m<lambda>\u001B[0m\n    df_tags['tags'] = df_tags['tags'].apply(lambda x: ' '.join(ast.literal_eval(x)))\n",
      "  File \u001B[0;32m\"C:\\ProgramData\\Anaconda3\\lib\\ast.py\"\u001B[0m, line \u001B[0;32m62\u001B[0m, in \u001B[0;35mliteral_eval\u001B[0m\n    node_or_string = parse(node_or_string, mode='eval')\n",
      "\u001B[1;36m  File \u001B[1;32m\"C:\\ProgramData\\Anaconda3\\lib\\ast.py\"\u001B[1;36m, line \u001B[1;32m50\u001B[1;36m, in \u001B[1;35mparse\u001B[1;36m\u001B[0m\n\u001B[1;33m    return compile(source, filename, mode, flags,\u001B[0m\n",
      "\u001B[1;36m  File \u001B[1;32m\"<unknown>\"\u001B[1;36m, line \u001B[1;32m1\u001B[0m\n\u001B[1;33m    Open World RPG Story Rich Atmospheric Mature Fantasy Adventure Singleplayer Nudity Choices Matter Great Soundtrack Third Person Medieval Action Multiple Endings Action RPG Magic Dark Fantasy Dark Sandbox\u001B[0m\n\u001B[1;37m         ^\u001B[0m\n\u001B[1;31mSyntaxError\u001B[0m\u001B[1;31m:\u001B[0m invalid syntax\n"
     ]
    }
   ],
   "source": [
    "import ast\n",
    "tfidf_vectorizer_tags = TfidfVectorizer()\n",
    "tfidf_vectorizer_desc = TfidfVectorizer()\n",
    "\n",
    "df_desc['short_description'] = df_desc['short_description'].astype(str)\n",
    "df_tags['tags'] = df_tags['tags'].apply(lambda x: ' '.join(ast.literal_eval(x))) # still reporting errors. Fixing\n",
    "tfidf_matrix_tags = tfidf_vectorizer_tags.fit_transform(df_tags['tags'])\n",
    "tfidf_matrix_desc = tfidf_vectorizer_desc.fit_transform(df_desc['short_description'])\n",
    "tfidf_matrix_tags = tfidf_matrix_tags*4 # increase the weight of tags\n",
    "print(tfidf_matrix_desc)\n",
    "print(tfidf_matrix_tags)"
   ],
   "metadata": {
    "collapsed": false,
    "ExecuteTime": {
     "end_time": "2023-11-07T11:06:59.686417300Z",
     "start_time": "2023-11-07T11:06:59.659502400Z"
    }
   }
  },
  {
   "cell_type": "code",
   "execution_count": 7,
   "outputs": [
    {
     "name": "stdout",
     "output_type": "stream",
     "text": [
      "Combined TF-IDF Matrix Shape: (315, 3525)\n"
     ]
    }
   ],
   "source": [
    "from scipy.sparse import hstack\n",
    "combined_tfidf_matrix = hstack((tfidf_matrix_desc, tfidf_matrix_tags))\n",
    "print('Combined TF-IDF Matrix Shape:', combined_tfidf_matrix.shape)"
   ],
   "metadata": {
    "collapsed": false,
    "ExecuteTime": {
     "end_time": "2023-11-07T11:05:42.973143200Z",
     "start_time": "2023-11-07T11:05:42.958210700Z"
    }
   }
  },
  {
   "cell_type": "markdown",
   "source": [
    "Create user class. The user class takes user model as input. A user could be an existed user in our reviews data set either a new user, needing cold start which will be implemented later."
   ],
   "metadata": {
    "collapsed": false
   }
  },
  {
   "cell_type": "code",
   "execution_count": 8,
   "outputs": [],
   "source": [
    "class User:\n",
    "    def __int__(self, user_mod, user_id):\n",
    "        self.user_mod = user_mod\n",
    "        self.user_id = user_id\n",
    "        self.profile = [] # this array contains game ids.\n",
    "        self.feature_arr = None # feature array(TF-IDF) depends on the profile array.\n",
    "    def hot_start(self):\n",
    "        pass\n",
    "    def cold_start(self):\n",
    "        pass\n",
    "    def update_profile(self, app_id):\n",
    "        self.profile.append(app_id)\n",
    "    def generate_new_profile_vector(self):\n",
    "        new_feature_arr = TfidfVectorizer()\n",
    "    def like_game(self,app_id):\n",
    "        self.update_profile(app_id)\n",
    "\n",
    "\n",
    "\n",
    "\n",
    "\n"
   ],
   "metadata": {
    "collapsed": false,
    "ExecuteTime": {
     "end_time": "2023-11-07T11:05:42.984147300Z",
     "start_time": "2023-11-07T11:05:42.964984Z"
    }
   }
  }
 ],
 "metadata": {
  "kernelspec": {
   "display_name": "Python 3",
   "language": "python",
   "name": "python3"
  },
  "language_info": {
   "codemirror_mode": {
    "name": "ipython",
    "version": 2
   },
   "file_extension": ".py",
   "mimetype": "text/x-python",
   "name": "python",
   "nbconvert_exporter": "python",
   "pygments_lexer": "ipython2",
   "version": "2.7.6"
  }
 },
 "nbformat": 4,
 "nbformat_minor": 0
}

{
 "cells": [
  {
   "cell_type": "markdown",
   "source": [
    "__COMP9727 PROJECT:A STEAM GAME RECOMMENDER SYSTEM__\n"
   ],
   "metadata": {
    "collapsed": false
   }
  },
  {
   "cell_type": "markdown",
   "source": [
    "# Introduction\n",
    "This model is a recommender system for Steam games. It is based on the dataset from Steam, which is a digital distribution platform for video games. The dataset contains 316 games and 21 million users. The recommender system is based on collaborative filtering and content based model. The system integrates the recommender module and a user interaction module."
   ],
   "metadata": {
    "collapsed": false
   }
  },
  {
   "cell_type": "markdown",
   "source": [
    "__PIPELINE__:\n",
    "1. Data preprocessing, Analysis and Visualization\n",
    "2. Extracting features from the game dataset, build feature vectors for games. The item vector is a hierarchical structure. First, for the description, use text vectorization technology (such as TF-IDF or Word2Vec) to process the description text of the game to generate a dense numerical vector for each game. For Tags, we still use TF-IDF. But since the game tag describes the game more significantly, we manually increase the TF-IDF weight of the tag."
   ],
   "metadata": {
    "collapsed": false
   }
  },
  {
   "cell_type": "markdown",
   "source": [
    "__Inporting Libraries__"
   ],
   "metadata": {
    "collapsed": false
   }
  },
  {
   "cell_type": "code",
   "execution_count": 1,
   "outputs": [],
   "source": [
    "import pandas as pd\n",
    "from sklearn.feature_extraction.text import TfidfVectorizer"
   ],
   "metadata": {
    "collapsed": false,
    "ExecuteTime": {
     "end_time": "2023-11-12T01:12:19.786753600Z",
     "start_time": "2023-11-12T01:12:17.947284900Z"
    }
   }
  },
  {
   "cell_type": "markdown",
   "source": [
    "__Data Preprocessing__"
   ],
   "metadata": {
    "collapsed": false
   }
  },
  {
   "cell_type": "code",
   "execution_count": 2,
   "outputs": [],
   "source": [
    "file_path_reviews = \"steam_reviews.csv\"\n",
    "file_path_desc = \"desc.csv\"\n",
    "file_path_tags = \"tags.csv\"\n",
    "\n",
    "df_reviews = pd.read_csv(file_path_reviews)\n",
    "df_desc = pd.read_csv(file_path_desc)\n",
    "df_tags = pd.read_csv(file_path_tags)"
   ],
   "metadata": {
    "collapsed": false,
    "ExecuteTime": {
     "end_time": "2023-11-12T01:12:56.414023600Z",
     "start_time": "2023-11-12T01:12:19.786753600Z"
    }
   }
  },
  {
   "cell_type": "markdown",
   "source": [
    "__Clean the data__"
   ],
   "metadata": {
    "collapsed": false
   }
  },
  {
   "cell_type": "code",
   "execution_count": 3,
   "outputs": [],
   "source": [
    "import ast\n",
    "import re\n",
    "def tags_preprocess(tag):\n",
    "    tag = ast.literal_eval(tag)\n",
    "    tag = [x.lower() for x in tag]\n",
    "    tag = [x.replace(' ', '_') for x in tag]\n",
    "    tag = [x.replace('-', '_') for x in tag]\n",
    "    tag = ' '.join(tag)\n",
    "    return tag\n",
    "def desc_preprocess(desc):\n",
    "    desc = '' if pd.isna(desc) else str(desc)\n",
    "    desc = desc.lower()\n",
    "    desc = re.sub(r'[^\\w\\s]', '', desc)  # Remove punctuation\n",
    "    words = desc.split()  # Tokenize by splitting on whitespace\n",
    "    return ' '.join(words)"
   ],
   "metadata": {
    "collapsed": false,
    "ExecuteTime": {
     "end_time": "2023-11-12T01:12:56.430245200Z",
     "start_time": "2023-11-12T01:12:56.416024900Z"
    }
   }
  },
  {
   "cell_type": "code",
   "execution_count": 4,
   "outputs": [],
   "source": [
    "# df_desc = df_desc.dropna(subset=['short_description'])\n",
    "df_tags['tags'] = df_tags['tags'].apply(lambda x: tags_preprocess(x))\n",
    "df_desc['short_description'] = df_desc['short_description'].apply(desc_preprocess)"
   ],
   "metadata": {
    "collapsed": false,
    "ExecuteTime": {
     "end_time": "2023-11-12T01:12:56.475342100Z",
     "start_time": "2023-11-12T01:12:56.431244900Z"
    }
   }
  },
  {
   "cell_type": "markdown",
   "source": [
    "__Extracting Features from the description dataset and the tags dataset__"
   ],
   "metadata": {
    "collapsed": false
   }
  },
  {
   "cell_type": "code",
   "execution_count": 5,
   "outputs": [
    {
     "name": "stdout",
     "output_type": "stream",
     "text": [
      "id                                                              666140\n",
      "short_description    start a new life in the enchanting town of por...\n",
      "Name: 161, dtype: object\n"
     ]
    }
   ],
   "source": [
    "print(df_desc.loc[161])"
   ],
   "metadata": {
    "collapsed": false,
    "ExecuteTime": {
     "end_time": "2023-11-12T01:12:56.479347700Z",
     "start_time": "2023-11-12T01:12:56.464824100Z"
    }
   }
  },
  {
   "cell_type": "code",
   "execution_count": 6,
   "outputs": [
    {
     "name": "stdout",
     "output_type": "stream",
     "text": [
      "  (0, 944)\t0.27707007158803415\n",
      "  (0, 1488)\t0.27707007158803415\n",
      "  (0, 2527)\t0.2585299893139412\n",
      "  (0, 1561)\t0.27707007158803415\n",
      "  (0, 2179)\t0.23517224803621373\n",
      "  (0, 1692)\t0.23517224803621373\n",
      "  (0, 2924)\t0.2386355452946131\n",
      "  (0, 1743)\t0.18493768577197395\n",
      "  (0, 475)\t0.27707007158803415\n",
      "  (0, 1200)\t0.24537559159788733\n",
      "  (0, 406)\t0.27707007158803415\n",
      "  (0, 1126)\t0.18493768577197395\n",
      "  (0, 2758)\t0.18493768577197395\n",
      "  (0, 1124)\t0.10053639446178186\n",
      "  (0, 2037)\t0.27707007158803415\n",
      "  (0, 2542)\t0.23517224803621373\n",
      "  (0, 1814)\t0.27707007158803415\n",
      "  (1, 535)\t0.1923484174817216\n",
      "  (1, 1025)\t0.2235605171169861\n",
      "  (1, 1809)\t0.29737536420845806\n",
      "  (1, 2627)\t0.263358129952708\n",
      "  (1, 1075)\t0.2774765577905971\n",
      "  (1, 2874)\t0.1734214546066264\n",
      "  (1, 2077)\t0.29737536420845806\n",
      "  (1, 2397)\t0.263358129952708\n",
      "  :\t:\n",
      "  (313, 1038)\t0.18556620844540345\n",
      "  (313, 382)\t0.18556620844540345\n",
      "  (313, 25)\t0.18556620844540345\n",
      "  (313, 584)\t0.18556620844540345\n",
      "  (313, 263)\t0.18556620844540345\n",
      "  (313, 2108)\t0.18556620844540345\n",
      "  (313, 1853)\t0.18556620844540345\n",
      "  (313, 1955)\t0.18556620844540345\n",
      "  (313, 2225)\t0.18556620844540345\n",
      "  (313, 868)\t0.18556620844540345\n",
      "  (313, 449)\t0.17314908684092828\n",
      "  (313, 2146)\t0.16433899885646908\n",
      "  (313, 1357)\t0.32867799771293815\n",
      "  (313, 2779)\t0.16433899885646908\n",
      "  (313, 1007)\t0.16433899885646908\n",
      "  (313, 399)\t0.13069466766305954\n",
      "  (313, 386)\t0.14311178926753468\n",
      "  (313, 1009)\t0.13335933800693742\n",
      "  (313, 715)\t0.16433899885646908\n",
      "  (313, 1341)\t0.15192187725199394\n",
      "  (313, 2836)\t0.15750536371372867\n",
      "  (313, 1090)\t0.13950475564751874\n",
      "  (313, 853)\t0.42933536780260406\n",
      "  (313, 1363)\t0.14311178926753468\n",
      "  (313, 268)\t0.11505094453585993\n"
     ]
    }
   ],
   "source": [
    "import ast\n",
    "tfidf_vectorizer_desc = TfidfVectorizer(stop_words='english')\n",
    "tfidf_matrix_desc = tfidf_vectorizer_desc.fit_transform(df_desc['short_description'].tolist())\n",
    "print(tfidf_matrix_desc)"
   ],
   "metadata": {
    "collapsed": false,
    "ExecuteTime": {
     "end_time": "2023-11-12T01:12:56.567431100Z",
     "start_time": "2023-11-12T01:12:56.478339800Z"
    }
   }
  },
  {
   "cell_type": "markdown",
   "source": [
    "Create user class. The user class takes user model as input. A user could be an existed user in our reviews data set either a new user, needing cold start which will be implemented later."
   ],
   "metadata": {
    "collapsed": false
   }
  },
  {
   "cell_type": "code",
   "execution_count": 30,
   "outputs": [],
   "source": [
    "from sklearn.metrics.pairwise import cosine_similarity\n",
    "from collections import Counter\n",
    "import pandas as pd\n",
    "\n",
    "class User:\n",
    "    def __init__(self, user_mod, user_id):\n",
    "        self.user_mod = user_mod\n",
    "        self.user_id = user_id\n",
    "        self.profile = []  # This array contains game ids.\n",
    "        self.feature_arr = None  # Feature array (TF-IDF) depends on the profile array.\n",
    "        self.recommendations = []\n",
    "        self.liked_games_ids = []  # Array to store IDs of games the user has liked.\n",
    "        self.liked_tags = Counter()\n",
    "        self.limit = 60\n",
    "        self.total_sum = 0\n",
    "\n",
    "    def hot_start(self):\n",
    "        df_user_reviews = df_reviews[(df_reviews['author.steamid'] == self.user_id) & (df_reviews['recommended'] == True)]\n",
    "        for app_id in df_user_reviews['app_id'].values:\n",
    "            self.like_game(app_id)\n",
    "\n",
    "\n",
    "    def cold_start(self):\n",
    "        # Implement cold start logic if needed\n",
    "        pass\n",
    "\n",
    "    def update_profile(self, app_id):\n",
    "        self.profile.append(app_id)\n",
    "        # Get tags for the new game and update tag counts\n",
    "        new_game_tags = df_tags[df_tags['app_id'] == app_id]['tags'].iloc[0].split()\n",
    "        self.liked_tags.update(new_game_tags)\n",
    "        self.generate_new_profile_vector()\n",
    "\n",
    "    def generate_new_profile_vector(self):\n",
    "        desc = df_desc.loc[df_desc['id'].isin(self.profile)]\n",
    "        self.feature_arr = tfidf_vectorizer_desc.transform(desc['short_description'])\n",
    "\n",
    "    def like_game(self, app_id):\n",
    "        self.update_profile(app_id)\n",
    "        # Add the game ID to the set of liked games\n",
    "        self.liked_games_ids.append(app_id)\n",
    "\n",
    "    def run_model(self):\n",
    "        cosine_similarities = cosine_similarity(self.feature_arr, tfidf_matrix_desc)\n",
    "        adjusted_similarity_scores = []\n",
    "\n",
    "        for game_idx, game_id in enumerate(df_desc['id']):\n",
    "            if game_id not in self.liked_games_ids:  # Skip games already liked\n",
    "                custom_weight = self.calculate_custom_weight(game_id)\n",
    "                adjusted_score = cosine_similarities[0][game_idx] * custom_weight\n",
    "                adjusted_similarity_scores.append((game_id, adjusted_score))\n",
    "\n",
    "        # Create a DataFrame from the adjusted scores\n",
    "        similarity_scores_df = pd.DataFrame(adjusted_similarity_scores, columns=['game_id', 'similarity_score'])\n",
    "        sorted_similarity_scores_df = similarity_scores_df.sort_values(by='similarity_score', ascending=False)\n",
    "\n",
    "        # Get the top recommendations\n",
    "        top_recommendations_indices = sorted_similarity_scores_df.head(self.limit).index\n",
    "\n",
    "        final_recommendations = pd.DataFrame({\n",
    "            'app_id': df_desc.loc[top_recommendations_indices]['id']\n",
    "        })\n",
    "\n",
    "        # Store the recommendations\n",
    "        self.recommendations = final_recommendations\n",
    "        return self.recommendations['app_id'].values\n",
    "\n",
    "    def calculate_custom_weight(self, game_id):\n",
    "        game_tags_list = df_tags[df_tags['app_id'] == game_id]['tags'].iloc[0].split()\n",
    "        weight_sum = 0\n",
    "        total_sum = sum(dict(self.liked_tags).values())\n",
    "        for tag in game_tags_list:\n",
    "            if tag in dict(self.liked_tags):\n",
    "                weight_sum += self.liked_tags[tag]\n",
    "        return (weight_sum/total_sum)*10\n",
    "\n",
    "\n"
   ],
   "metadata": {
    "collapsed": false,
    "ExecuteTime": {
     "end_time": "2023-11-12T01:56:39.513200Z",
     "start_time": "2023-11-12T01:56:39.499529400Z"
    }
   }
  },
  {
   "cell_type": "code",
   "execution_count": 21,
   "outputs": [
    {
     "name": "stdout",
     "output_type": "stream",
     "text": [
      "['simulation education immersive_sim building management sandbox first_person life_sim 3d realistic casual relaxing singleplayer funny hardware puzzle modern inventory_management atmospheric indie']\n"
     ]
    }
   ],
   "source": [
    "# user = User(0,76561198030238209)\n",
    "# user.hot_start()\n",
    "# user.run_model()\n",
    "# user.like_game(883710)\n",
    "# user.run_model()\n",
    "# user.like_game(883710)\n",
    "# user.run_model()\n",
    "# user.like_game(883710)\n",
    "# user.run_model()\n",
    "# user.like_game(883710)\n",
    "# user.run_model()\n",
    "# user.like_game(883710)\n",
    "# user.run_model()\n",
    "# user.like_game(883710)\n",
    "# user.run_model()\n",
    "game_tags = df_tags[df_tags['app_id'] == 621060]['tags'].iloc[0].split(',')\n",
    "print(game_tags)"
   ],
   "metadata": {
    "collapsed": false,
    "ExecuteTime": {
     "end_time": "2023-11-12T01:41:30.627380700Z",
     "start_time": "2023-11-12T01:41:30.604456400Z"
    }
   }
  },
  {
   "cell_type": "code",
   "execution_count": 9,
   "outputs": [],
   "source": [
    "df_games= df_reviews.drop_duplicates(subset='app_id')"
   ],
   "metadata": {
    "collapsed": false,
    "ExecuteTime": {
     "end_time": "2023-11-12T01:12:57.419440Z",
     "start_time": "2023-11-12T01:12:57.112213600Z"
    }
   }
  },
  {
   "cell_type": "markdown",
   "source": [
    "__UI MODULE__"
   ],
   "metadata": {
    "collapsed": false
   }
  },
  {
   "cell_type": "code",
   "execution_count": 31,
   "outputs": [
    {
     "data": {
      "text/plain": "Text(value='', description='User ID:')",
      "application/vnd.jupyter.widget-view+json": {
       "version_major": 2,
       "version_minor": 0,
       "model_id": "096bc3d80c32414dbc8601115bc506ad"
      }
     },
     "metadata": {},
     "output_type": "display_data"
    },
    {
     "data": {
      "text/plain": "Button(description='Login', style=ButtonStyle())",
      "application/vnd.jupyter.widget-view+json": {
       "version_major": 2,
       "version_minor": 0,
       "model_id": "75875bb72d4a41319d50747ef73b4409"
      }
     },
     "metadata": {},
     "output_type": "display_data"
    },
    {
     "data": {
      "text/plain": "Output()",
      "application/vnd.jupyter.widget-view+json": {
       "version_major": 2,
       "version_minor": 0,
       "model_id": "c081cecf475b41f39df8f83a54c5c112"
      }
     },
     "metadata": {},
     "output_type": "display_data"
    },
    {
     "data": {
      "text/plain": "76561198030238209"
     },
     "execution_count": 31,
     "metadata": {},
     "output_type": "execute_result"
    }
   ],
   "source": [
    "import ipywidgets as widgets\n",
    "from IPython.display import display, clear_output\n",
    "from IPython.display import HTML\n",
    "class SteamGameRecommenderUI:\n",
    "    def __init__(self):\n",
    "        self.user_id = None\n",
    "        self.current_page = 0\n",
    "        self.user = None\n",
    "        self.recommended_games_ids = []\n",
    "        self.login_input = widgets.Text(description='User ID:')\n",
    "        self.login_button = widgets.Button(description='Login')\n",
    "        self.next_page_button = widgets.Button(description='Next Page')\n",
    "        self.previous_page_button = widgets.Button(description='Previous Page')\n",
    "        self.search_input = widgets.Text(description='Search Game:')\n",
    "        self.search_button = widgets.Button(description='Search')\n",
    "        self.output_area = widgets.Output()\n",
    "\n",
    "        self.login_button.on_click(self.on_login_clicked)\n",
    "        self.next_page_button.on_click(self.on_next_page_clicked)\n",
    "        self.previous_page_button.on_click(self.on_previous_page_clicked)\n",
    "        self.search_button.on_click(self.on_search_clicked)\n",
    "\n",
    "    def _load_games_db(self, recommendations):\n",
    "        self.recommended_games_ids = recommendations\n",
    "\n",
    "    def display(self):\n",
    "        display(self.login_input, self.login_button, self.output_area)\n",
    "\n",
    "    def on_login_clicked(self, b):\n",
    "        self.user_id = int(self.login_input.value)\n",
    "        self.user = User(0, self.user_id)\n",
    "        self.user.hot_start()\n",
    "        recommendations = self.user.run_model()\n",
    "        self._load_games_db(recommendations)\n",
    "        self.display_recommended_games()\n",
    "\n",
    "    def display_recommended_games(self):\n",
    "        with self.output_area:\n",
    "            clear_output()\n",
    "            games_vbox = widgets.VBox()\n",
    "            for game_id in self.get_recommended_games():\n",
    "                game_name = df_games.loc[df_games['app_id'] == game_id]['app_name'].tolist()[0]\n",
    "                game_label = widgets.Label(f'{game_id}: {game_name}')\n",
    "                like_button = widgets.Button(description='Like', layout=widgets.Layout(width='auto'))\n",
    "                dislike_button = widgets.Button(description='Dislike', layout=widgets.Layout(width='auto'))\n",
    "                view_button = widgets.Button(description='View', layout=widgets.Layout(width='auto'))\n",
    "\n",
    "                like_button.on_click(lambda b, game_id=game_id: self.on_like_clicked(b, game_id))\n",
    "                dislike_button.on_click(lambda b, game_id=game_id: self.on_dislike_clicked(b, game_id))\n",
    "                view_button.on_click(lambda b, game_id=game_id: self.display_game_details(b, game_id))\n",
    "\n",
    "                buttons_hbox = widgets.HBox([like_button, dislike_button, view_button], layout=widgets.Layout(justify_content='flex-end'))\n",
    "                game_hbox = widgets.HBox([game_label, buttons_hbox], layout=widgets.Layout(justify_content='space-between'))\n",
    "                games_vbox.children += (game_hbox,)\n",
    "            navigation_box = widgets.HBox([self.previous_page_button, self.next_page_button], layout=widgets.Layout(justify_content='space-between'))\n",
    "            display(widgets.VBox([games_vbox, navigation_box]))\n",
    "\n",
    "    def get_recommended_games(self):\n",
    "        start = self.current_page * 10\n",
    "        end = start + 10\n",
    "        return self.recommended_games_ids[start:end]\n",
    "\n",
    "    def on_next_page_clicked(self, b):\n",
    "        self.current_page += 1\n",
    "        self.display_recommended_games()\n",
    "\n",
    "    def on_previous_page_clicked(self, b):\n",
    "        if self.current_page > 0:\n",
    "            self.current_page -= 1\n",
    "        self.display_recommended_games()\n",
    "\n",
    "    def on_back_clicked(self, b):\n",
    "        self.display_recommended_games()\n",
    "\n",
    "    def reset_current_page(self):\n",
    "        self.current_page = 0\n",
    "\n",
    "    def on_search_clicked(self, b):\n",
    "        pass\n",
    "\n",
    "    def display_game_details(self, b, game_id):\n",
    "        with self.output_area:\n",
    "            clear_output()\n",
    "            # 将标签字符串拆分为列表\n",
    "            game_tags_str = df_tags[df_tags['app_id'] == game_id]['tags'].iloc[0]\n",
    "            game_tags = game_tags_str.split(' ')\n",
    "            game_desc = df_desc[df_desc['id'] == game_id]['short_description'].iloc[0]\n",
    "\n",
    "            # 创建一个容器，用于存放标签按钮\n",
    "            tags_hbox = widgets.HBox(layout=widgets.Layout(flex_flow='row wrap', align_items='flex-start'))\n",
    "            for tag in game_tags:\n",
    "                tag = tag.replace('_', ' ').strip()\n",
    "                tag_button = widgets.Button(description=tag, disabled=True,\n",
    "                                            button_style='',\n",
    "                                            layout=widgets.Layout(width='auto', margin='2px'))\n",
    "                tags_hbox.children += (tag_button,)\n",
    "\n",
    "            # 使用 HTML 控件来显示描述\n",
    "            desc_html = widgets.HTML(\n",
    "                value=f\"<strong>Description:</strong> {game_desc}\"\n",
    "            )\n",
    "\n",
    "            back_button = widgets.Button(description='Back')\n",
    "            back_button.on_click(lambda b: self.on_back_clicked(b))\n",
    "\n",
    "            # 组装标签和描述\n",
    "            display(widgets.VBox([tags_hbox, desc_html, back_button]))\n",
    "\n",
    "    def on_like_clicked(self, b, game_id):\n",
    "        self.user.like_game(game_id)\n",
    "        recommendations = self.user.run_model()\n",
    "        self._load_games_db(recommendations)\n",
    "        self.reset_current_page()\n",
    "        self.display_recommended_games()\n",
    "\n",
    "    def on_dislike_clicked(self, b, game_id):\n",
    "        pass\n",
    "\n",
    "\n",
    "\n",
    "# Usage\n",
    "ui = SteamGameRecommenderUI()\n",
    "ui.display()\n",
    "\n",
    "\n",
    "76561198030238209"
   ],
   "metadata": {
    "collapsed": false,
    "ExecuteTime": {
     "end_time": "2023-11-12T01:56:41.679877800Z",
     "start_time": "2023-11-12T01:56:41.625235300Z"
    }
   }
  }
 ],
 "metadata": {
  "kernelspec": {
   "display_name": "Python 3",
   "language": "python",
   "name": "python3"
  },
  "language_info": {
   "codemirror_mode": {
    "name": "ipython",
    "version": 2
   },
   "file_extension": ".py",
   "mimetype": "text/x-python",
   "name": "python",
   "nbconvert_exporter": "python",
   "pygments_lexer": "ipython2",
   "version": "2.7.6"
  }
 },
 "nbformat": 4,
 "nbformat_minor": 0
}

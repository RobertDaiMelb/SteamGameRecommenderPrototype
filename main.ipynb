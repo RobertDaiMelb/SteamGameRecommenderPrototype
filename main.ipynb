{
 "cells": [
  {
   "cell_type": "markdown",
   "source": [
    "__COMP9727 PROJECT:A STEAM GAME RECOMMENDER SYSTEM__\n"
   ],
   "metadata": {
    "collapsed": false
   }
  },
  {
   "cell_type": "markdown",
   "source": [
    "# Introduction\n",
    "This model is a recommender system for Steam games. It is based on the dataset from Steam, which is a digital distribution platform for video games. The dataset contains 316 games and 21 million users. The recommender system is based on collaborative filtering and content based model. The system integrates the recommender module and a user interaction module."
   ],
   "metadata": {
    "collapsed": false
   }
  },
  {
   "cell_type": "markdown",
   "source": [
    "__PIPELINE__:\n",
    "1. Data preprocessing, Analysis and Visualization\n",
    "2. Extracting features from the game dataset, build feature vectors for games. The item vector is a hierarchical structure. First, for the description, use text vectorization technology (such as TF-IDF or Word2Vec) to process the description text of the game to generate a dense numerical vector for each game. For Tags, we still use TF-IDF. But since the game tag describes the game more significantly, we manually increase the TF-IDF weight of the tag."
   ],
   "metadata": {
    "collapsed": false
   }
  },
  {
   "cell_type": "markdown",
   "source": [
    "__Inporting Libraries__"
   ],
   "metadata": {
    "collapsed": false
   }
  },
  {
   "cell_type": "code",
   "execution_count": 4,
   "outputs": [],
   "source": [
    "import pandas as pd\n",
    "from sklearn.feature_extraction.text import TfidfVectorizer"
   ],
   "metadata": {
    "collapsed": false,
    "ExecuteTime": {
     "end_time": "2023-11-07T09:17:24.991252800Z",
     "start_time": "2023-11-07T09:17:24.973741100Z"
    }
   }
  },
  {
   "cell_type": "markdown",
   "source": [
    "__Data Preprocessing__"
   ],
   "metadata": {
    "collapsed": false
   }
  },
  {
   "cell_type": "code",
   "execution_count": 5,
   "outputs": [],
   "source": [
    "file_path_reviews = \"steam_reviews.csv\"\n",
    "file_path_desc = \"desc.csv\"\n",
    "file_path_tags = \"tags.csv\"\n",
    "\n",
    "df_reviews = pd.read_csv(file_path_reviews)\n",
    "df_desc = pd.read_csv(file_path_desc)\n",
    "df_tags = pd.read_csv(file_path_tags)"
   ],
   "metadata": {
    "collapsed": false,
    "ExecuteTime": {
     "end_time": "2023-11-07T09:17:52.085291700Z",
     "start_time": "2023-11-07T09:17:24.991252800Z"
    }
   }
  },
  {
   "cell_type": "code",
   "execution_count": 6,
   "outputs": [
    {
     "name": "stdout",
     "output_type": "stream",
     "text": [
      "          Unnamed: 0  app_id                  app_name  review_id  language  \\\n",
      "0                  0  292030  The Witcher 3: Wild Hunt   85185598  schinese   \n",
      "1                  1  292030  The Witcher 3: Wild Hunt   85185250  schinese   \n",
      "2                  2  292030  The Witcher 3: Wild Hunt   85185111  schinese   \n",
      "3                  3  292030  The Witcher 3: Wild Hunt   85184605   english   \n",
      "4                  4  292030  The Witcher 3: Wild Hunt   85184287  schinese   \n",
      "...              ...     ...                       ...        ...       ...   \n",
      "21747366    21747371  546560           Half-Life: Alyx   65645125   english   \n",
      "21747367    21747372  546560           Half-Life: Alyx   65645115   english   \n",
      "21747368    21747373  546560           Half-Life: Alyx   65645100   english   \n",
      "21747369    21747374  546560           Half-Life: Alyx   65645066   english   \n",
      "21747370    21747375  546560           Half-Life: Alyx   65644930  schinese   \n",
      "\n",
      "          timestamp_created  timestamp_updated  recommended  votes_helpful  \\\n",
      "0                1611381629         1611381629         True              0   \n",
      "1                1611381030         1611381030         True              0   \n",
      "2                1611380800         1611380800         True              0   \n",
      "3                1611379970         1611379970         True              0   \n",
      "4                1611379427         1611379427         True              0   \n",
      "...                     ...                ...          ...            ...   \n",
      "21747366         1584986704         1584986704         True              0   \n",
      "21747367         1584986693         1584986693         True              0   \n",
      "21747368         1584986673         1584986673         True              0   \n",
      "21747369         1584986631         1586382422         True              0   \n",
      "21747370         1584986505         1592060800         True              0   \n",
      "\n",
      "          votes_funny  ...  received_for_free  written_during_early_access  \\\n",
      "0                   0  ...              False                        False   \n",
      "1                   0  ...              False                        False   \n",
      "2                   0  ...              False                        False   \n",
      "3                   0  ...              False                        False   \n",
      "4                   0  ...              False                        False   \n",
      "...               ...  ...                ...                          ...   \n",
      "21747366            0  ...              False                        False   \n",
      "21747367            0  ...              False                        False   \n",
      "21747368            0  ...              False                        False   \n",
      "21747369            0  ...              False                        False   \n",
      "21747370            0  ...              False                        False   \n",
      "\n",
      "             author.steamid  author.num_games_owned  author.num_reviews  \\\n",
      "0         76561199095369542                       6                   2   \n",
      "1         76561198949504115                      30                  10   \n",
      "2         76561199090098988                       5                   1   \n",
      "3         76561199054755373                       5                   3   \n",
      "4         76561199028326951                       7                   4   \n",
      "...                     ...                     ...                 ...   \n",
      "21747366  76561197967033932                     431                   7   \n",
      "21747367  76561198046495482                      70                  10   \n",
      "21747368  76561198176379749                      79                  17   \n",
      "21747369  76561198041763187                     140                   3   \n",
      "21747370  76561198116747069                     253                   7   \n",
      "\n",
      "          author.playtime_forever  author.playtime_last_two_weeks  \\\n",
      "0                          1909.0                          1448.0   \n",
      "1                          2764.0                          2743.0   \n",
      "2                          1061.0                          1061.0   \n",
      "3                          5587.0                          3200.0   \n",
      "4                           217.0                            42.0   \n",
      "...                           ...                             ...   \n",
      "21747366                    432.0                             0.0   \n",
      "21747367                   3296.0                            15.0   \n",
      "21747368                   2654.0                             0.0   \n",
      "21747369                    210.0                             0.0   \n",
      "21747370                   1062.0                             0.0   \n",
      "\n",
      "          author.playtime_at_review  author.last_played      id  \n",
      "0                            1909.0        1.611343e+09  292030  \n",
      "1                            2674.0        1.611386e+09  292030  \n",
      "2                            1060.0        1.611384e+09  292030  \n",
      "3                            5524.0        1.611384e+09  292030  \n",
      "4                             217.0        1.610788e+09  292030  \n",
      "...                             ...                 ...     ...  \n",
      "21747366                       29.0        1.586628e+09  546560  \n",
      "21747367                       24.0        1.611080e+09  546560  \n",
      "21747368                       34.0        1.591634e+09  546560  \n",
      "21747369                       12.0        1.589715e+09  546560  \n",
      "21747370                        8.0        1.602858e+09  546560  \n",
      "\n",
      "[21747371 rows x 23 columns]\n",
      "         id                                  short_description\n",
      "0    420530  OneShot is a surreal top down Puzzle/Adventure...\n",
      "1    400940  Budget Cuts is a VR stealth game where you dex...\n",
      "2    457140  Oxygen Not Included is a space-colony simulati...\n",
      "3    252490  The only aim in Rust is to survive. Everything...\n",
      "4    447820  Experience close-quarters battles in iconic WW...\n",
      "..      ...                                                ...\n",
      "310  382310  Create a civilization capable of stopping a me...\n",
      "311  626690  Experience an original story where you are the...\n",
      "312  413410  Investigate murders, search for clues and talk...\n",
      "313  460930  Create a team with up to 3 friends in Tom Clan...\n",
      "314  214950  Emperor Edition is the definitive edition of R...\n",
      "\n",
      "[315 rows x 2 columns]\n",
      "     app_id                                               tags\n",
      "0    292030  ['Open World', 'RPG', 'Story Rich', 'Atmospher...\n",
      "1        70  ['FPS', 'Classic', 'Sci-fi', \"1990's\", 'Single...\n",
      "2       240  ['Shooter', 'FPS', 'Action', 'Multiplayer', 'T...\n",
      "3       420  ['FPS', 'Action', 'Sci-fi', 'Singleplayer', 'S...\n",
      "4       620  ['Platformer', 'Puzzle', 'Dark Humor', 'First-...\n",
      "..      ...                                                ...\n",
      "310  530070  ['Simulation', 'Trains', 'Realistic', 'Driving...\n",
      "311  574050  ['RPG', 'Action', 'Hack and Slash', 'JRPG', 'A...\n",
      "312  572410  ['World War II', 'Strategy', 'RTS', 'Military'...\n",
      "313  421020  ['Racing', 'Simulation', 'Automobile Sim', 'Mu...\n",
      "314  546560  ['VR', 'FPS', 'Story Rich', 'Horror', 'Female ...\n",
      "\n",
      "[315 rows x 2 columns]\n"
     ]
    }
   ],
   "source": [
    "print(df_reviews)\n",
    "print(df_desc)\n",
    "print(df_tags)"
   ],
   "metadata": {
    "collapsed": false,
    "ExecuteTime": {
     "end_time": "2023-11-07T09:17:53.898850800Z",
     "start_time": "2023-11-07T09:17:52.085291700Z"
    }
   }
  },
  {
   "cell_type": "markdown",
   "source": [
    "__Extracting Features from the description dataset and the tags dataset__"
   ],
   "metadata": {
    "collapsed": false
   }
  },
  {
   "cell_type": "code",
   "execution_count": 35,
   "outputs": [
    {
     "name": "stdout",
     "output_type": "stream",
     "text": [
      "  (0, 984)\t0.24700311720558804\n",
      "  (0, 1533)\t0.24700311720558804\n",
      "  (0, 2666)\t0.052291381739460345\n",
      "  (0, 2591)\t0.21876281526427752\n",
      "  (0, 717)\t0.18572377997485845\n",
      "  (0, 1609)\t0.19596286849156755\n",
      "  (0, 1487)\t0.16228221138165644\n",
      "  (0, 2239)\t0.20967146866126754\n",
      "  (0, 1735)\t0.20967146866126754\n",
      "  (0, 1869)\t0.10215061606462593\n",
      "  (0, 3020)\t0.20200574830185367\n",
      "  (0, 1789)\t0.1649116490752475\n",
      "  (0, 2701)\t0.1340419094403459\n",
      "  (0, 504)\t0.24700311720558804\n",
      "  (0, 1251)\t0.21876281526427752\n",
      "  (0, 2719)\t0.1319999638183207\n",
      "  (0, 181)\t0.15319086477864644\n",
      "  (0, 3039)\t0.1704898281458292\n",
      "  (0, 435)\t0.24700311720558804\n",
      "  (0, 1176)\t0.1649116490752475\n",
      "  (0, 2836)\t0.1649116490752475\n",
      "  (0, 3000)\t0.07985263223563074\n",
      "  (0, 1175)\t0.08928208985432583\n",
      "  (0, 98)\t0.12296274696423692\n",
      "  (0, 2102)\t0.19596286849156755\n",
      "  :\t:\n",
      "  (314, 1400)\t0.30777164616799785\n",
      "  (314, 378)\t0.15388582308399892\n",
      "  (314, 2616)\t0.1306449485630183\n",
      "  (314, 2859)\t0.15388582308399892\n",
      "  (314, 1046)\t0.15388582308399892\n",
      "  (314, 427)\t0.12240011711625923\n",
      "  (314, 1049)\t0.12489382181991314\n",
      "  (314, 740)\t0.15388582308399892\n",
      "  (314, 1383)\t0.1422653858235086\n",
      "  (314, 125)\t0.09091441114851957\n",
      "  (314, 2432)\t0.15388582308399892\n",
      "  (314, 2977)\t0.12489382181991314\n",
      "  (314, 2918)\t0.1474906349746486\n",
      "  (314, 1137)\t0.12762536626739923\n",
      "  (314, 411)\t0.12240011711625923\n",
      "  (314, 882)\t0.4020616631302487\n",
      "  (314, 1406)\t0.13402055437674956\n",
      "  (314, 1857)\t0.04162616276017358\n",
      "  (314, 281)\t0.10776009756014987\n",
      "  (314, 1402)\t0.09597145368848234\n",
      "  (314, 150)\t0.07356736847123992\n",
      "  (314, 145)\t0.07026390086514464\n",
      "  (314, 2666)\t0.03678368423561996\n",
      "  (314, 1487)\t0.11415528566950019\n",
      "  (314, 1475)\t0.05433644710192425\n",
      "  (0, 303)\t0.612373595701017\n",
      "  (0, 85)\t1.4826747814989505\n",
      "  (0, 200)\t1.1133764839028308\n",
      "  (0, 116)\t1.0225754036947186\n",
      "  (0, 226)\t1.0225754036947186\n",
      "  (0, 8)\t0.6892825495652646\n",
      "  (0, 210)\t0.9553611869742719\n",
      "  (0, 256)\t0.47667396654084404\n",
      "  (0, 353)\t0.6391348042275686\n",
      "  (0, 330)\t0.46557897748073834\n",
      "  (0, 155)\t0.46739566005367544\n",
      "  (0, 206)\t0.9220359353763105\n",
      "  (0, 54)\t0.9220359353763105\n",
      "  (0, 241)\t0.8269760667344088\n",
      "  (0, 320)\t0.30074142109510754\n",
      "  (0, 10)\t0.39468779015286554\n",
      "  (0, 126)\t1.322356628882096\n",
      "  (0, 207)\t0.9553611869742719\n",
      "  (0, 26)\t0.46198315641302695\n",
      "  (0, 289)\t0.5334329316859817\n",
      "  (0, 339)\t0.5334329316859817\n",
      "  (0, 298)\t1.0438936108537522\n",
      "  (0, 388)\t0.48434195740579183\n",
      "  (0, 248)\t0.4882622251790145\n",
      "  (1, 277)\t0.9123981750651105\n",
      "  :\t:\n",
      "  (314, 38)\t1.0440657223091543\n",
      "  (314, 246)\t1.1369319246029976\n",
      "  (314, 142)\t1.0440657223091543\n",
      "  (314, 379)\t1.9196868453830669\n",
      "  (314, 274)\t0.7464828377937214\n",
      "  (314, 129)\t0.6704121542871839\n",
      "  (314, 170)\t1.1967635713580198\n",
      "  (314, 392)\t0.8194202817904902\n",
      "  (314, 151)\t0.62130452433829\n",
      "  (314, 272)\t0.646779225179014\n",
      "  (314, 12)\t1.0440657223091543\n",
      "  (314, 134)\t0.5297816469290101\n",
      "  (314, 313)\t0.5775459519933404\n",
      "  (314, 130)\t0.6513147444028926\n",
      "  (314, 306)\t0.6513147444028926\n",
      "  (314, 138)\t0.5912238207414322\n",
      "  (314, 8)\t0.3027905331590023\n",
      "  (314, 256)\t0.41879013058708664\n",
      "  (314, 330)\t0.4090424366841392\n",
      "  (314, 155)\t0.4106385144760033\n",
      "  (314, 320)\t0.2642215599214484\n",
      "  (314, 10)\t0.34675976197891256\n",
      "  (314, 26)\t0.4058832660974954\n",
      "  (314, 289)\t0.4686566978712543\n",
      "  (314, 339)\t0.4686566978712543\n"
     ]
    }
   ],
   "source": [
    "import ast\n",
    "tfidf_vectorizer_tags = TfidfVectorizer()\n",
    "tfidf_vectorizer_desc = TfidfVectorizer()\n",
    "\n",
    "df_desc['short_description'] = df_desc['short_description'].astype(str)\n",
    "df_tags['tags'] = df_tags['tags'].astype(str)\n",
    "tfidf_matrix_tags = tfidf_vectorizer_tags.fit_transform(df_tags['tags'])\n",
    "tfidf_matrix_desc = tfidf_vectorizer_desc.fit_transform(df_desc['short_description'])\n",
    "tfidf_matrix_tags = tfidf_matrix_tags*4 # increase the weight of tags\n",
    "print(tfidf_matrix_desc)\n",
    "print(tfidf_matrix_tags)"
   ],
   "metadata": {
    "collapsed": false,
    "ExecuteTime": {
     "end_time": "2023-11-07T09:39:29.769099600Z",
     "start_time": "2023-11-07T09:39:29.748564600Z"
    }
   }
  },
  {
   "cell_type": "code",
   "execution_count": 36,
   "outputs": [
    {
     "name": "stdout",
     "output_type": "stream",
     "text": [
      "Combined TF-IDF Matrix Shape: (315, 3525)\n"
     ]
    }
   ],
   "source": [
    "from scipy.sparse import hstack\n",
    "combined_tfidf_matrix = hstack((tfidf_matrix_desc, tfidf_matrix_tags))\n",
    "print('Combined TF-IDF Matrix Shape:', combined_tfidf_matrix.shape)"
   ],
   "metadata": {
    "collapsed": false,
    "ExecuteTime": {
     "end_time": "2023-11-07T09:42:01.033267400Z",
     "start_time": "2023-11-07T09:42:01.024289200Z"
    }
   }
  }
 ],
 "metadata": {
  "kernelspec": {
   "display_name": "Python 3",
   "language": "python",
   "name": "python3"
  },
  "language_info": {
   "codemirror_mode": {
    "name": "ipython",
    "version": 2
   },
   "file_extension": ".py",
   "mimetype": "text/x-python",
   "name": "python",
   "nbconvert_exporter": "python",
   "pygments_lexer": "ipython2",
   "version": "2.7.6"
  }
 },
 "nbformat": 4,
 "nbformat_minor": 0
}

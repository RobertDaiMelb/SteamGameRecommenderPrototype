{
 "cells": [
  {
   "cell_type": "markdown",
   "metadata": {
    "collapsed": false
   },
   "source": [
    "__COMP9727 PROJECT:A STEAM GAME RECOMMENDER SYSTEM__\n"
   ]
  },
  {
   "cell_type": "markdown",
   "metadata": {
    "collapsed": false
   },
   "source": [
    "# Introduction\n",
    "This model is a recommender system for Steam games. It is based on the dataset from Steam, which is a digital distribution platform for video games. The dataset contains 316 games and 21 million users. The recommender system is based on collaborative filtering and content based model. The system integrates the recommender module and a user interaction module."
   ]
  },
  {
   "cell_type": "markdown",
   "metadata": {
    "collapsed": false
   },
   "source": [
    "__PIPELINE__:\n",
    "1. Data preprocessing, Analysis and Visualization\n",
    "2. Extracting features from the game dataset, build feature vectors for games. The item vector is a hierarchical structure. First, for the description, use text vectorization technology (such as TF-IDF or Word2Vec) to process the description text of the game to generate a dense numerical vector for each game. For Tags, we still use TF-IDF. But since the game tag describes the game more significantly, we manually increase the TF-IDF weight of the tag."
   ]
  },
  {
   "cell_type": "markdown",
   "metadata": {
    "collapsed": false
   },
   "source": [
    "__Inporting Libraries__"
   ]
  },
  {
   "cell_type": "code",
   "execution_count": 1,
   "metadata": {
    "ExecuteTime": {
     "end_time": "2023-11-14T07:27:41.281050900Z",
     "start_time": "2023-11-14T07:27:39.989336900Z"
    },
    "collapsed": false
   },
   "outputs": [],
   "source": [
    "import pandas as pd\n",
    "from sklearn.feature_extraction.text import TfidfVectorizer"
   ]
  },
  {
   "cell_type": "markdown",
   "metadata": {
    "collapsed": false
   },
   "source": [
    "__Data Preprocessing__"
   ]
  },
  {
   "cell_type": "code",
   "execution_count": 2,
   "metadata": {
    "ExecuteTime": {
     "end_time": "2023-11-14T07:28:09.197470600Z",
     "start_time": "2023-11-14T07:27:41.282280300Z"
    },
    "collapsed": false
   },
   "outputs": [],
   "source": [
    "file_path_reviews = \"new_steam_reviews.csv\"\n",
    "file_path_desc = \"new_desc.csv\"\n",
    "file_path_tags = \"new_tags.csv\"\n",
    "\n",
    "df_reviews = pd.read_csv(file_path_reviews)\n",
    "df_count = df_reviews['author.steamid'].value_counts().to_frame().reset_index().rename(columns={'author.steamid': 'count'})\n",
    "df_reviews = df_reviews.loc[df_reviews['author.steamid'].isin(df_count.query(\"count >= 10\")['index'].values), :]\n",
    "df_desc = pd.read_csv(file_path_desc)\n",
    "df_tags = pd.read_csv(file_path_tags)"
   ]
  },
  {
   "cell_type": "code",
   "execution_count": 3,
   "metadata": {
    "ExecuteTime": {
     "end_time": "2023-11-14T07:28:09.353484Z",
     "start_time": "2023-11-14T07:28:09.198683400Z"
    },
    "collapsed": false
   },
   "outputs": [
    {
     "name": "stdout",
     "output_type": "stream",
     "text": [
      "True\n",
      "False\n"
     ]
    }
   ],
   "source": [
    "print(df_reviews.isna().any().any())\n",
    "print(df_desc.isna().any().any())"
   ]
  },
  {
   "cell_type": "code",
   "execution_count": 4,
   "metadata": {
    "ExecuteTime": {
     "end_time": "2023-11-14T07:28:09.424618800Z",
     "start_time": "2023-11-14T07:28:09.353484Z"
    },
    "collapsed": false
   },
   "outputs": [
    {
     "name": "stdout",
     "output_type": "stream",
     "text": [
      "10          76561198184596858\n",
      "30          76561198063207357\n",
      "39          76561198177937343\n",
      "61          76561198346767187\n",
      "86          76561198938824713\n",
      "                  ...        \n",
      "17223453    76561198202928831\n",
      "17223456    76561198030410472\n",
      "17223461    76561198005772688\n",
      "17223462    76561197961194023\n",
      "17223465    76561198013409616\n",
      "Name: author.steamid, Length: 1001740, dtype: int64\n"
     ]
    }
   ],
   "source": [
    "# print(df_desc)\n",
    "# print(df_tags)\n",
    "print(df_reviews['author.steamid'])"
   ]
  },
  {
   "cell_type": "markdown",
   "metadata": {
    "collapsed": false
   },
   "source": [
    "__Clean the data__"
   ]
  },
  {
   "cell_type": "code",
   "execution_count": 5,
   "metadata": {
    "ExecuteTime": {
     "end_time": "2023-11-14T07:28:09.425619200Z",
     "start_time": "2023-11-14T07:28:09.371370600Z"
    },
    "collapsed": false
   },
   "outputs": [],
   "source": [
    "import ast\n",
    "import re\n",
    "def tags_preprocess(tag):\n",
    "    tag = ast.literal_eval(tag)\n",
    "    tag = [x.lower() for x in tag]\n",
    "    tag = [x.replace(' ', '_') for x in tag]\n",
    "    tag = [x.replace('-', '_') for x in tag]\n",
    "    tag = ' '.join(tag)\n",
    "    return tag\n",
    "def desc_preprocess(desc):\n",
    "    desc = '' if pd.isna(desc) else str(desc)\n",
    "    desc = desc.lower()\n",
    "    desc = re.sub(r'[^\\w\\s]', '', desc)  # Remove punctuation\n",
    "    words = desc.split()  # Tokenize by splitting on whitespace\n",
    "    return ' '.join(words)"
   ]
  },
  {
   "cell_type": "code",
   "execution_count": 6,
   "metadata": {
    "ExecuteTime": {
     "end_time": "2023-11-14T07:28:09.425619200Z",
     "start_time": "2023-11-14T07:28:09.384693Z"
    },
    "collapsed": false
   },
   "outputs": [],
   "source": [
    "# df_desc = df_desc.dropna(subset=['short_description'])\n",
    "df_tags['tags'] = df_tags['tags'].apply(lambda x: tags_preprocess(x))\n",
    "df_desc['short_description'] = df_desc['short_description'].apply(desc_preprocess)"
   ]
  },
  {
   "cell_type": "markdown",
   "metadata": {
    "collapsed": false
   },
   "source": [
    "__Extracting Features from the description dataset and the tags dataset__"
   ]
  },
  {
   "cell_type": "code",
   "execution_count": 7,
   "metadata": {
    "ExecuteTime": {
     "end_time": "2023-11-14T07:28:09.426618200Z",
     "start_time": "2023-11-14T07:28:09.400374400Z"
    },
    "collapsed": false
   },
   "outputs": [
    {
     "name": "stdout",
     "output_type": "stream",
     "text": [
      "id                                                              578080\n",
      "short_description    pubg battlegrounds is a battle royale shooter ...\n",
      "Name: 161, dtype: object\n"
     ]
    }
   ],
   "source": [
    "print(df_desc.loc[161])"
   ]
  },
  {
   "cell_type": "code",
   "execution_count": 8,
   "metadata": {
    "ExecuteTime": {
     "end_time": "2023-11-14T07:28:09.520764700Z",
     "start_time": "2023-11-14T07:28:09.417134700Z"
    },
    "collapsed": false
   },
   "outputs": [
    {
     "name": "stdout",
     "output_type": "stream",
     "text": [
      "  (0, 2342)\t0.34266551688316627\n",
      "  (0, 2557)\t0.20954880668834158\n",
      "  (0, 3875)\t0.31922482778360933\n",
      "  (0, 1695)\t0.5793861041476892\n",
      "  (0, 3115)\t0.2557120159913009\n",
      "  (0, 2345)\t0.5793861041476892\n",
      "  (1, 1561)\t0.19705558180487137\n",
      "  (1, 2403)\t0.19705558180487137\n",
      "  (1, 2657)\t0.15540662450806467\n",
      "  (1, 1975)\t0.1835756183978875\n",
      "  (1, 3375)\t0.19705558180487137\n",
      "  (1, 2451)\t0.08627417555433464\n",
      "  (1, 1644)\t0.15096728250238467\n",
      "  (1, 281)\t0.15096728250238467\n",
      "  (1, 3442)\t0.1835756183978875\n",
      "  (1, 1394)\t0.12590762604844555\n",
      "  (1, 3619)\t0.29410301067932054\n",
      "  (1, 139)\t0.15540662450806467\n",
      "  (1, 106)\t0.20572695279440442\n",
      "  (1, 3609)\t0.19705558180487137\n",
      "  (1, 341)\t0.16053146874664415\n",
      "  (1, 824)\t0.19705558180487137\n",
      "  (1, 450)\t0.19705558180487137\n",
      "  (1, 3377)\t0.5220342964608841\n",
      "  (1, 823)\t0.39411116360974274\n",
      "  :\t:\n",
      "  (274, 1178)\t0.14277292503568564\n",
      "  (274, 3906)\t0.14277292503568564\n",
      "  (274, 2854)\t0.14277292503568564\n",
      "  (274, 1886)\t0.14277292503568564\n",
      "  (274, 3904)\t0.14277292503568564\n",
      "  (274, 198)\t0.2855458500713713\n",
      "  (274, 3010)\t0.13300627043315402\n",
      "  (274, 3971)\t0.12607671871392817\n",
      "  (274, 1140)\t0.12607671871392817\n",
      "  (274, 3930)\t0.12607671871392817\n",
      "  (274, 2379)\t0.12607671871392817\n",
      "  (274, 2065)\t0.10938051239217073\n",
      "  (274, 1143)\t0.10654340950886493\n",
      "  (274, 720)\t0.12070174082091847\n",
      "  (274, 523)\t0.11259695436036798\n",
      "  (274, 3028)\t0.11631006411139655\n",
      "  (274, 179)\t0.10938051239217073\n",
      "  (274, 1382)\t0.12607671871392817\n",
      "  (274, 722)\t0.10654340950886493\n",
      "  (274, 3229)\t0.16386870056878763\n",
      "  (274, 1417)\t0.08193435028439382\n",
      "  (274, 3471)\t0.08984720318710748\n",
      "  (274, 3224)\t0.0759880997486558\n",
      "  (274, 1266)\t0.19922771557927818\n",
      "  (274, 1695)\t0.7242104449255108\n"
     ]
    }
   ],
   "source": [
    "import ast\n",
    "tfidf_vectorizer_desc = TfidfVectorizer(stop_words='english')\n",
    "tfidf_matrix_desc = tfidf_vectorizer_desc.fit_transform(df_desc['short_description'].tolist())\n",
    "print(tfidf_matrix_desc)"
   ]
  },
  {
   "cell_type": "markdown",
   "metadata": {
    "collapsed": false
   },
   "source": [
    "Create user class. The user class takes user model as input. A user could be an existed user in our reviews data set either a new user, needing cold start which will be implemented later."
   ]
  },
  {
   "cell_type": "code",
   "execution_count": 9,
   "metadata": {
    "ExecuteTime": {
     "end_time": "2023-11-14T07:28:09.535901200Z",
     "start_time": "2023-11-14T07:28:09.453190800Z"
    },
    "collapsed": false
   },
   "outputs": [],
   "source": [
    "from sklearn.metrics.pairwise import cosine_similarity\n",
    "from collections import Counter\n",
    "import pandas as pd\n",
    "\n",
    "class User_CB():\n",
    "    def __init__(self, user_mod, user_id = None):\n",
    "        self.user_mod = user_mod\n",
    "        self.user_id = user_id\n",
    "        self.profile = []  # This array contains game ids.\n",
    "        self.feature_arr = None  # Feature array (TF-IDF) depends on the profile array.\n",
    "        self.recommendations = []\n",
    "        self.liked_tags = Counter()\n",
    "        self.limit = 100\n",
    "        self.total_sum = 0\n",
    "\n",
    "    def hot_start(self):\n",
    "        df_user_reviews = df_reviews[(df_reviews['author.steamid'] == self.user_id)]\n",
    "        for app_id in df_user_reviews['app_id'].values:\n",
    "            self.like_game(app_id)\n",
    "\n",
    "\n",
    "    def cold_start(self, liked_games):\n",
    "        for id in liked_games:\n",
    "            self.like_game(id)\n",
    "\n",
    "    def update_profile(self, app_id):\n",
    "        self.profile.append(app_id)\n",
    "        # Get tags for the new game and update tag counts\n",
    "        new_game_tags = df_tags[df_tags['app_id'] == app_id]['tags'].iloc[0].split()\n",
    "        self.liked_tags.update(new_game_tags)\n",
    "        self.generate_new_profile_vector()\n",
    "\n",
    "    def generate_new_profile_vector(self):\n",
    "        desc = df_desc.loc[df_desc['id'].isin(self.profile)]\n",
    "        self.feature_arr = tfidf_vectorizer_desc.transform(desc['short_description'])\n",
    "\n",
    "\n",
    "    def like_game(self, app_id):\n",
    "        # if not app_id in self.profile:\n",
    "        self.update_profile(app_id)\n",
    "\n",
    "    def run_model(self):\n",
    "        cosine_similarities = cosine_similarity(self.feature_arr, tfidf_matrix_desc)\n",
    "        adjusted_similarity_scores = []\n",
    "\n",
    "        for game_idx, game_id in enumerate(df_desc['id']):\n",
    "            #if game_id not in self.profile:  # Skip games already liked\n",
    "            custom_weight = self.calculate_custom_weight(game_id)\n",
    "            adjusted_score = (cosine_similarities[0][game_idx]+1) * custom_weight\n",
    "            adjusted_similarity_scores.append((game_id, adjusted_score))\n",
    "\n",
    "        # Create a DataFrame from the adjusted scores\n",
    "        similarity_scores_df = pd.DataFrame(adjusted_similarity_scores, columns=['game_id', 'similarity_score'])\n",
    "        sorted_similarity_scores_df = similarity_scores_df.sort_values(by='similarity_score', ascending=False)\n",
    "        top_recommendations_indices = sorted_similarity_scores_df[~sorted_similarity_scores_df['game_id'].isin(self.profile)].index\n",
    "\n",
    "\n",
    "        final_recommendations = pd.DataFrame({\n",
    "            'app_id': df_desc.loc[top_recommendations_indices]['id']\n",
    "        })\n",
    "\n",
    "        # Store the recommendations\n",
    "        self.recommendations = final_recommendations\n",
    "        return self.recommendations['app_id'].values.tolist()\n",
    "\n",
    "    def calculate_custom_weight(self, game_id):\n",
    "        game_tags_list = df_tags[df_tags['app_id'] == game_id]['tags'].iloc[0].split()\n",
    "        weight_sum = 0\n",
    "        total_sum = sum(dict(self.liked_tags).values())\n",
    "        for tag in game_tags_list:\n",
    "            if tag in dict(self.liked_tags):\n",
    "                weight_sum += self.liked_tags[tag]\n",
    "        return (weight_sum/total_sum) if total_sum > 0 else 0\n",
    "\n",
    "\n"
   ]
  },
  {
   "cell_type": "code",
   "execution_count": 10,
   "metadata": {
    "ExecuteTime": {
     "end_time": "2023-11-14T07:28:09.537903700Z",
     "start_time": "2023-11-14T07:28:09.494464600Z"
    },
    "collapsed": false
   },
   "outputs": [
    {
     "name": "stdout",
     "output_type": "stream",
     "text": [
      "10                            Half-Life\n",
      "57370            Counter-Strike: Source\n",
      "175417         Half-Life 2: Episode Two\n",
      "198924                         Portal 2\n",
      "431235                        X Rebirth\n",
      "                       ...             \n",
      "17152364       Styx: Shards of Darkness\n",
      "17155572        DRAGON QUEST HEROES™ II\n",
      "17156171    Steel Division: Normandy 44\n",
      "17161378                         DiRT 4\n",
      "17172395                Half-Life: Alyx\n",
      "Name: app_name, Length: 275, dtype: object\n"
     ]
    }
   ],
   "source": [
    "df_games= df_reviews.drop_duplicates(subset='app_id')\n",
    "print(df_games['app_name'])"
   ]
  },
  {
   "cell_type": "markdown",
   "metadata": {},
   "source": [
    "The core idea of collaborative filtering recommendation system is to construct the user-items matrix through the user's comments on the game, calculate the similarity between users to predict the user's rating of the game, and introduce the weight to ensure the credibility of similar users\n",
    "\n",
    "**Pipeline:**\n",
    "\n",
    "1. Data sampling\n",
    "2. Construct the user-item matrix\n",
    "3. Construct the similarity function\n",
    "4. Construct the rating prediction function\n",
    "5. Implement a complete recommendation process\n",
    "\n"
   ]
  },
  {
   "cell_type": "markdown",
   "metadata": {},
   "source": [
    "\n",
    "1. Data sampling\n",
    "\n",
    "The original dataset presents a formidable challenge due to its overwhelming number of users, which poses a significant hurdle in constructing the User-Item matrix without overtaxing the available RAM. To tackle this issue effectively, the implementation of a thoughtful data sampling strategy becomes imperative. Our primary goal is to strategically curtail the user count, thereby enhancing the efficiency of the data processing pipeline.\n",
    "\n",
    "Upon a detailed exploration of the dataset, a notable observation emerged: approximately 90% of the 12,000,000 users contributed more than 10 comments. Leveraging this insight, we refined our selection criteria, ultimately narrowing down the user pool to approximately 120,000 active users. This deliberate curation ensures that our subsequent analyses are not only more resource-efficient but also tailored to the subset of users who exhibit significant engagement, enhancing the relevance and depth of our findings.\n",
    "\n",
    "2. Construct the user-item matrix\n",
    "\n",
    "The construction of the user-item matrix was based on sampled dataset in the last step, comprising 120,000 distinct users and 315 unique games. Despite our efforts to filter out inactive users, the resulting matrix remains highly sparse.\n",
    "\n",
    "\n",
    "3. Construct the similarity function\n",
    "\n",
    "In our initial approach to the similarity function, we employed cosine similarity, a widely discussed method covered in our lectures, to compute the similarity between users. However, given that our user-items matrix comprises **120,000** users and **315** games, with many users reviewing only approximate 15 games, the 0-1 matrix is highly sparse. Cosine similarity proved ineffective for dealing with vectors that contain numerous empty values.\n",
    "\n",
    "To address this challenge, we explored alternative similarity metrics, including Pearson Correlation Coefficient, Spearman's Rank Correlation Coefficient, and Kendall's Tau. Despite these efforts, we encountered less than perfect results. Ultimately, we opted to enhance the dataset by smoothing it, replacing 0s with 1s and empty values with 0s.\n",
    "\n",
    "Our rationale for this transformation lies in our consideration that users who review a game, regardless of recommending it or not, exhibit an interest in the genre(s) of the game. Since users invest time playing a particular game, we assume they are inherently interested in its genre. Furthermore, if a user does not recommend a game, it suggests that the game itself lacks sufficient allure. Therefore, we chose to convert 0s to 1s, reflecting the user's implicit interest in the genre associated with the game.\n",
    "\n",
    "4. Construct the rating prediction function\n",
    "\n",
    "The rating prediction function was implemented with the equation taught through lecture.\n",
    "\n",
    "$\\hat{r}_{ui} = \\frac{\\sum_{j=1}^{M}  \\text{cred}(v_j, i) \\cdot \\text{sim}(u, v_j) \\cdot r_{v_j, i}}{\\sum_{j=1}^{M} \\text{cred}(v_j, i) \\cdot \\text{sim}(u, v_j)}$\n",
    "\n",
    "$\\text{sim}(u, v_j)$ refers the similarity between $u$ and $v_j$\n",
    "\n",
    "$\\text{cred}(v_j, i)$ refers to how trustworthy the $v_j$'s rating on $i$\n",
    "\n",
    "$\\text{cred}(v_j, i)$ is implemented **......**\n",
    "\n",
    "After obtaining predicted ratings for all games, we will select the top N games to be recommended."
   ]
  },
  {
   "cell_type": "code",
   "execution_count": 11,
   "metadata": {
    "ExecuteTime": {
     "end_time": "2023-11-14T07:28:09.600504Z",
     "start_time": "2023-11-14T07:28:09.524771Z"
    },
    "collapsed": false
   },
   "outputs": [],
   "source": [
    "import bisect\n",
    "import numpy as np\n",
    "\n",
    "\n",
    "class User_CF():\n",
    "    def __init__(self, user_id):\n",
    "        self.user_id = user_id\n",
    "        self.recommendations = []\n",
    "        # Generate users-items matrix\n",
    "        if user_id == 1:\n",
    "          self.cold_start()\n",
    "        else:\n",
    "          self.u_a_df = df_reviews.pivot_table(index='author.steamid', columns='app_id', values='recommended')\n",
    "          self.reviewed_games_ids = set(self.u_a_df.loc[user_id, self.u_a_df.columns[~self.u_a_df.loc[user_id].isna()]].index.tolist())\n",
    "\n",
    "        # dynamic\n",
    "        self.buffer = []\n",
    "\n",
    "        # Intialize interest and rating matrix\n",
    "        self.interest_matrix = self.u_a_df.replace(0, 1)\n",
    "        self.interest_matrix = self.interest_matrix.fillna(0)\n",
    "        self.rating_matrix = self.u_a_df.replace(0, -1)\n",
    "        self.rating_matrix = self.rating_matrix.fillna(0)\n",
    "\n",
    "    def cold_start(self):\n",
    "        self.u_a_df = df_reviews.pivot_table(index='author.steamid', columns='app_id', values='recommended')\n",
    "        self.u_a_df.loc[1] = [np.nan] * len(self.u_a_df.columns)\n",
    "        self.reviewed_games_ids = set()\n",
    "\n",
    "    def similarity(self):\n",
    "        interest_matrix = self.interest_matrix\n",
    "        sim_matrix = self.cosine(interest_matrix)\n",
    "        sorted_df = sim_matrix.sort_values(by='Similarity', axis=1, ascending=False)\n",
    "        return sorted_df\n",
    "\n",
    "    def cosine(self, matrix):\n",
    "        uid = self.user_id\n",
    "        target_user_ratings = matrix.loc[uid].to_frame().T\n",
    "        similarity_scores = cosine_similarity(target_user_ratings, matrix)\n",
    "        similarity_df = pd.DataFrame(similarity_scores, columns=matrix.index, index=['Similarity'])\n",
    "        return similarity_df\n",
    "\n",
    "    def comment(self, aid):\n",
    "        if aid in self.reviewed_games_ids:\n",
    "          return\n",
    "        self.buffer.append(aid)\n",
    "\n",
    "    def update_profile(self):\n",
    "        uid = self.user_id\n",
    "        for i in self.buffer:\n",
    "            self.reviewed_games_ids.add(i)\n",
    "        for aid in self.buffer:\n",
    "          self.interest_matrix.loc[uid][aid] = 1\n",
    "          self.rating_matrix.loc[uid][aid] = 1\n",
    "        self.buffer = []\n",
    "\n",
    "    def run_model_cf(self):\n",
    "\n",
    "        self.update_profile()\n",
    "\n",
    "        # Predict rating by 5 similar users\n",
    "        similar_users = self.similarity()\n",
    "        ratings = []\n",
    "        app_list = self.u_a_df.columns.tolist()\n",
    "        for aid in app_list:\n",
    "          if aid in self.reviewed_games_ids:\n",
    "            continue\n",
    "          count = 0\n",
    "          up = 0\n",
    "          down = 0\n",
    "          user_list = similar_users.columns.tolist()[1:]\n",
    "          for uid in user_list:\n",
    "            if count == 5:\n",
    "              break\n",
    "\n",
    "            rating = self.rating_matrix.loc[uid][aid]\n",
    "\n",
    "            if rating == 0 or uid == self.user_id:\n",
    "              continue\n",
    "\n",
    "            count += 1\n",
    "            up += similar_users.iloc[0][uid] * rating * self.credibility(uid, aid)\n",
    "            down += similar_users.iloc[0][uid] * self.credibility(uid, aid)\n",
    "\n",
    "          final_rating = up / down\n",
    "          ratings.append((final_rating, aid))\n",
    "\n",
    "        ratings.sort()\n",
    "        self.recommendations = [v for _, v in ratings]\n",
    "\n",
    "        return self.recommendations\n",
    "\n",
    "\n",
    "    def credibility(self, user_id, app_id):\n",
    "        df = df_reviews\n",
    "\n",
    "        def rank(sorted_list, value):\n",
    "          # bisect_left function returns the index of the inserted value, which is the point that can be inserted while keeping the list sorted\n",
    "          index = bisect.bisect_left(sorted_list, value)\n",
    "          # Check if the index is in the range of the list and if the value of the list at the index is equal to the value we are looking for\n",
    "          if index != len(sorted_list) and sorted_list[index] == value:\n",
    "            return index + 1\n",
    "          return -1\n",
    "\n",
    "        def give_vote_score():\n",
    "          vote_helpful = df.loc[(df['author.steamid'] == user_id) & (df['app_id'] == app_id), 'votes_helpful'].values[0]\n",
    "          vote_funny = df.loc[(df['author.steamid'] == user_id) & (df['app_id'] == app_id), 'votes_funny'].values[0]\n",
    "          if vote_helpful == 0:\n",
    "            vote_score = 1\n",
    "          elif 0 < vote_helpful < 10:\n",
    "            vote_score = 2\n",
    "          elif 10 <= vote_helpful < 50:\n",
    "            vote_score = 3\n",
    "          elif 50 <= vote_helpful < 100:\n",
    "            vote_score = 4\n",
    "          elif vote_helpful >= 100:\n",
    "            vote_score = 5\n",
    "          if vote_funny >= 10:\n",
    "            vote_score += 1\n",
    "          return vote_score\n",
    "\n",
    "        def give_time_score():\n",
    "          play_time = df.loc[(df['author.steamid'] == user_id) & (df['app_id'] == app_id), 'author.playtime_at_review'].values[0]\n",
    "          if play_time < 100:\n",
    "            time_score = 1\n",
    "          elif 100 <= play_time < 500:\n",
    "            time_score = 2\n",
    "          elif 500 <= play_time < 1000:\n",
    "            time_score = 3\n",
    "          elif play_time >= 1000:\n",
    "            time_score = 4\n",
    "          elif np.isnan(play_time):\n",
    "            time_score = 0.1\n",
    "\n",
    "          return time_score\n",
    "\n",
    "        # Base score\n",
    "        Base_score = give_vote_score() + give_time_score()\n",
    "        # timestamp_updated\n",
    "        timestamp = df.loc[df['app_id'] == app_id, 'timestamp_updated'].sort_values().values.tolist()\n",
    "          # Bigger timestamp implies newer review\n",
    "        user_timestamp = df.loc[(df['app_id'] == app_id) & (df['author.steamid'] == user_id), 'timestamp_updated'].values[0]\n",
    "        rank = rank(timestamp, user_timestamp)\n",
    "        newest_per = rank / len(timestamp)\n",
    "        score = Base_score * newest_per\n",
    "        # steam_purchase\n",
    "        if df.loc[(df['author.steamid'] == user_id) & (df['app_id'] == app_id), 'steam_purchase'].values[0] == False:\n",
    "          score *= 0.5\n",
    "        # written_during_early_access\n",
    "        if df.loc[(df['author.steamid'] == user_id) & (df['app_id'] == app_id), 'written_during_early_access'].values[0] == True:\n",
    "          score *= 0.5\n",
    "\n",
    "        return round(score, 2)"
   ]
  },
  {
   "cell_type": "code",
   "execution_count": 12,
   "metadata": {
    "ExecuteTime": {
     "end_time": "2023-11-14T07:28:09.614568400Z",
     "start_time": "2023-11-14T07:28:09.555560500Z"
    },
    "collapsed": false
   },
   "outputs": [],
   "source": [
    "user_cb = User_CB(0)\n",
    "user_cb.cold_start([524580,512900])"
   ]
  },
  {
   "cell_type": "markdown",
   "metadata": {
    "collapsed": false
   },
   "source": [
    "__UI MODULE__"
   ]
  },
  {
   "cell_type": "code",
   "execution_count": 14,
   "metadata": {
    "ExecuteTime": {
     "end_time": "2023-11-14T08:02:08.725465800Z",
     "start_time": "2023-11-14T08:02:08.637512Z"
    },
    "collapsed": false
   },
   "outputs": [
    {
     "data": {
      "application/vnd.jupyter.widget-view+json": {
       "model_id": "d64e9d3a33174899b8e6fc119bcbbc95",
       "version_major": 2,
       "version_minor": 0
      },
      "text/plain": [
       "HBox(children=(Text(value='', description='User ID:'), Button(description='Login', style=ButtonStyle()), Butto…"
      ]
     },
     "metadata": {},
     "output_type": "display_data"
    },
    {
     "data": {
      "application/vnd.jupyter.widget-view+json": {
       "model_id": "0adc42c5a4a141ac85ee2f6fb8acac98",
       "version_major": 2,
       "version_minor": 0
      },
      "text/plain": [
       "Output()"
      ]
     },
     "metadata": {},
     "output_type": "display_data"
    },
    {
     "data": {
      "text/plain": [
       "76561198119772292"
      ]
     },
     "execution_count": 14,
     "metadata": {},
     "output_type": "execute_result"
    }
   ],
   "source": [
    "import random\n",
    "import ipywidgets as widgets\n",
    "from IPython.display import display, clear_output\n",
    "from IPython.display import HTML\n",
    "class SteamGameRecommenderUI:\n",
    "    def __init__(self):\n",
    "        self.temp_liked_games = []\n",
    "        self.user_id = None\n",
    "        self.current_page = 0\n",
    "        self.user_cb = None\n",
    "        self.user_cf = None\n",
    "        self.limit = 60\n",
    "        self.recommended_games_ids = []\n",
    "        self.login_input = widgets.Text(description='User ID:')\n",
    "        self.login_button = widgets.Button(description='Login')\n",
    "        self.reg_button = widgets.Button(description='Register')\n",
    "        self.next_button = widgets.Button(description='Next')\n",
    "        self.next_page_button = widgets.Button(description='Next Page')\n",
    "        self.previous_page_button = widgets.Button(description='Previous Page')\n",
    "        self.search_input = widgets.Text(description='Search Game:')\n",
    "        self.search_button = widgets.Button(description='Search')\n",
    "        self.output_area = widgets.Output()\n",
    "        self.refresh_button = widgets.Button(description='Refresh')\n",
    "        self.refresh_button.on_click(self.on_refresh_clicked)\n",
    "\n",
    "        self.login_button.on_click(self.on_login_clicked)\n",
    "        self.reg_button.on_click(self.on_register_clicked)\n",
    "        self.next_page_button.on_click(self.on_next_page_clicked)\n",
    "        self.previous_page_button.on_click(self.on_previous_page_clicked)\n",
    "        self.search_button.on_click(self.on_search_clicked)\n",
    "\n",
    "    def on_register_clicked(self, b):\n",
    "        self.display_registration_screen()\n",
    "    def display_registration_screen(self):\n",
    "        with self.output_area:\n",
    "            clear_output()\n",
    "            random_games = random.sample(df_games['app_name'].tolist(), 10)\n",
    "            games_vbox = widgets.VBox()\n",
    "            for game_name in random_games:\n",
    "                game_button = widgets.Button(description=game_name, layout=widgets.Layout(width='auto'))\n",
    "                game_button.on_click(lambda b, game=game_name: self.on_game_selected(b, game))\n",
    "                games_vbox.children += (game_button,)\n",
    "\n",
    "            self.next_button.disabled = True\n",
    "            self.next_button.on_click(self.on_next_clicked)\n",
    "            display(widgets.VBox([games_vbox, self.next_button]))\n",
    "\n",
    "    def on_game_selected(self, b, game):\n",
    "        game_id = df_games.loc[df_games['app_name'] == game]['app_id'].tolist()[0]\n",
    "        self.temp_liked_games.append(game_id)\n",
    "        b.description = f'{game} (Selected)'\n",
    "        b.disabled = True\n",
    "        b.button_style = 'success'\n",
    "        self.next_button.disabled = len(self.temp_liked_games) == 0\n",
    "\n",
    "\n",
    "    def on_next_clicked(self, b):\n",
    "        self.user_cb = User_CB(0)\n",
    "        self.user_cf = User_CF(1)\n",
    "        self.user_cb.cold_start(self.temp_liked_games)\n",
    "        for id in self.temp_liked_games:\n",
    "            self.user_cf.comment(id)\n",
    "        recommendations_cb = self.user_cb.run_model()\n",
    "        recommendations_cf = self.user_cf.run_model_cf()\n",
    "        self._load_games_db(recommendations_cb,recommendations_cf)\n",
    "        self.reset_current_page()\n",
    "        self.display_recommended_games()\n",
    "\n",
    "    def _load_games_db(self, recommendations_cb,recommendations_cf):\n",
    "        rank = []\n",
    "        for app_id in recommendations_cf:\n",
    "            score = 0.4* (recommendations_cb.index(app_id)+1) + 0.6 * (recommendations_cf.index(app_id)+1)\n",
    "            rank.append((score, app_id))\n",
    "        rank.sort()\n",
    "        self.recommended_games_ids = [v for _, v in rank]\n",
    "\n",
    "\n",
    "    def display(self):\n",
    "        login_hbox = widgets.HBox([self.login_input, self.login_button, self.reg_button])\n",
    "        display(login_hbox, self.output_area)\n",
    "\n",
    "    def on_login_clicked(self, b):\n",
    "        self.user_id = int(self.login_input.value)\n",
    "        self.user_cb = User_CB(0, self.user_id)\n",
    "        self.user_cb.hot_start()\n",
    "        self.user_cf = User_CF(self.user_id)\n",
    "        recommendations_cb = self.user_cb.run_model()\n",
    "        recommendations_cf = self.user_cf.run_model_cf()\n",
    "        self._load_games_db(recommendations_cb,recommendations_cf)\n",
    "        self.display_recommended_games()\n",
    "\n",
    "    def display_recommended_games(self):\n",
    "        with self.output_area:\n",
    "            clear_output()\n",
    "            games_vbox = widgets.VBox()\n",
    "            for game_id in self.get_recommended_games():\n",
    "                game_name = df_games.loc[df_games['app_id'] == game_id]['app_name'].tolist()[0]\n",
    "                game_label = widgets.Label(f'{game_id}: {game_name}')\n",
    "                like_button = widgets.Button(description='Like', layout=widgets.Layout(width='auto'))\n",
    "                view_button = widgets.Button(description='View', layout=widgets.Layout(width='auto'))\n",
    "\n",
    "                if game_id in self.temp_liked_games:\n",
    "                    like_button.description = 'Liked'\n",
    "                    like_button.disabled = True\n",
    "                else:\n",
    "                    like_button.description = 'Like'\n",
    "                    like_button.disabled = False\n",
    "\n",
    "                like_button.on_click(lambda b, game_id=game_id: self.on_like_clicked(b, game_id))\n",
    "                view_button.on_click(lambda b, game_id=game_id: self.display_game_details(b, game_id))\n",
    "                buttons_hbox = widgets.HBox([like_button, view_button], layout=widgets.Layout(justify_content='flex-end'))\n",
    "                game_hbox = widgets.HBox([game_label, buttons_hbox], layout=widgets.Layout(justify_content='space-between'))\n",
    "                games_vbox.children += (game_hbox,)\n",
    "\n",
    "            navigation_box = widgets.HBox([self.previous_page_button, self.refresh_button, self.next_page_button], layout=widgets.Layout(justify_content='space-between'))\n",
    "            display(widgets.VBox([games_vbox, navigation_box]))\n",
    "\n",
    "\n",
    "    def get_recommended_games(self):\n",
    "        start = self.current_page * 10\n",
    "        end = start + 10\n",
    "        return self.recommended_games_ids[start:end]\n",
    "\n",
    "    def on_next_page_clicked(self, b):\n",
    "        self.current_page += 1\n",
    "        self.display_recommended_games()\n",
    "\n",
    "    def on_previous_page_clicked(self, b):\n",
    "        if self.current_page > 0:\n",
    "            self.current_page -= 1\n",
    "        self.display_recommended_games()\n",
    "\n",
    "    def on_back_clicked(self, b):\n",
    "        self.display_recommended_games()\n",
    "\n",
    "    def reset_current_page(self):\n",
    "        self.current_page = 0\n",
    "\n",
    "    def on_search_clicked(self, b):\n",
    "        pass\n",
    "\n",
    "    def display_game_details(self, b, game_id):\n",
    "        with self.output_area:\n",
    "            clear_output()\n",
    "            game_tags_str = df_tags[df_tags['app_id'] == game_id]['tags'].iloc[0]\n",
    "            game_tags = game_tags_str.split(' ')\n",
    "            game_desc = df_desc[df_desc['id'] == game_id]['short_description'].iloc[0]\n",
    "            tags_hbox = widgets.HBox(layout=widgets.Layout(flex_flow='row wrap', align_items='flex-start'))\n",
    "            for tag in game_tags:\n",
    "                tag = tag.replace('_', ' ').strip()\n",
    "                tag_button = widgets.Button(description=tag, disabled=True,\n",
    "                                            button_style='',\n",
    "                                            layout=widgets.Layout(width='auto', margin='2px'))\n",
    "                tags_hbox.children += (tag_button,)\n",
    "            desc_html = widgets.HTML(\n",
    "                value=f\"<strong>Description:</strong> {game_desc}\"\n",
    "            )\n",
    "\n",
    "            back_button = widgets.Button(description='Back')\n",
    "            back_button.on_click(lambda b: self.on_back_clicked(b))\n",
    "            display(widgets.VBox([tags_hbox, desc_html, back_button]))\n",
    "\n",
    "\n",
    "    def on_like_clicked(self, b, game_id):\n",
    "        self.temp_liked_games.append(game_id)\n",
    "        b.description = 'Liked'\n",
    "        b.disabled = True\n",
    "\n",
    "    def on_refresh_clicked(self, b):\n",
    "        for game_id in self.temp_liked_games:\n",
    "            self.user_cb.like_game(game_id)\n",
    "            self.user_cf.comment(game_id)\n",
    "        self.temp_liked_games = []\n",
    "        recommendations_cb = self.user_cb.run_model()\n",
    "        recommendations_cf = self.user_cf.run_model_cf()\n",
    "        self._load_games_db(recommendations_cb,recommendations_cf)\n",
    "        self.reset_current_page()\n",
    "        self.display_recommended_games()\n",
    "\n",
    "# Usage\n",
    "ui = SteamGameRecommenderUI()\n",
    "ui.display()\n",
    "76561198030410472\n"
   ]
  }
 ],
 "metadata": {
  "kernelspec": {
   "display_name": "Python 3",
   "language": "python",
   "name": "python3"
  },
  "language_info": {
   "codemirror_mode": {
    "name": "ipython",
    "version": 2
   },
   "file_extension": ".py",
   "mimetype": "text/x-python",
   "name": "python",
   "nbconvert_exporter": "python",
   "pygments_lexer": "ipython2",
   "version": "2.7.6"
  }
 },
 "nbformat": 4,
 "nbformat_minor": 0
}

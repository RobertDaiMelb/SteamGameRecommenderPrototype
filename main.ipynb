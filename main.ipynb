{
 "cells": [
  {
   "cell_type": "markdown",
   "metadata": {
    "collapsed": false
   },
   "source": [
    "# Introduction\n",
    "This model is a recommender system for Steam games. It is based on the dataset from Steam, which is a digital distribution platform for video games. The dataset contains 316 games and 21 million users. The recommender system is based on collaborative filtering and content based model. The system integrates the recommender module and a user interaction module."
   ]
  },
  {
   "cell_type": "markdown",
   "metadata": {
    "collapsed": false
   },
   "source": [
    "**Pipeline For Content-based model:**\n",
    "\n",
    "1. Data preprocessing, Analysis and Visualization\n",
    "2. Extracting features from the game dataset, build feature vectors for games. The item vector is a hierarchical structure. First, for the description, use text vectorization technology (such as TF-IDF or Word2Vec) to process the description text of the game to generate a dense numerical vector for each game. For Tags, we still use TF-IDF. But since the game tag describes the game more significantly, we manually increase the TF-IDF weight of the tag."
   ]
  },
  {
   "cell_type": "markdown",
   "metadata": {
    "collapsed": false
   },
   "source": [
    "__Inporting Libraries__"
   ]
  },
  {
   "cell_type": "code",
   "execution_count": 4,
   "metadata": {
    "ExecuteTime": {
     "end_time": "2023-11-14T10:53:19.750791200Z",
     "start_time": "2023-11-14T10:53:17.800384100Z"
    },
    "collapsed": false
   },
   "outputs": [],
   "source": [
    "import pandas as pd\n",
    "from sklearn.feature_extraction.text import TfidfVectorizer"
   ]
  },
  {
   "cell_type": "markdown",
   "metadata": {
    "collapsed": false
   },
   "source": [
    "__Data Preprocessing__"
   ]
  },
  {
   "cell_type": "code",
   "execution_count": 5,
   "metadata": {
    "ExecuteTime": {
     "end_time": "2023-11-14T10:53:46.059621600Z",
     "start_time": "2023-11-14T10:53:19.750791200Z"
    },
    "collapsed": false
   },
   "outputs": [],
   "source": [
    "file_path_reviews = \"new_steam_reviews.csv\"\n",
    "file_path_desc = \"new_desc.csv\"\n",
    "file_path_tags = \"new_tags.csv\"\n",
    "\n",
    "df_reviews = pd.read_csv(file_path_reviews)\n",
    "df_count = df_reviews['author.steamid'].value_counts().to_frame().reset_index().rename(columns={'author.steamid': 'index'})\n",
    "df_reviews = df_reviews.loc[df_reviews['author.steamid'].isin(df_count.query(\"count >= 10\")['index'].values), :]\n",
    "df_desc = pd.read_csv(file_path_desc)\n",
    "df_tags = pd.read_csv(file_path_tags)"
   ]
  },
  {
   "cell_type": "code",
   "execution_count": 6,
   "metadata": {
    "ExecuteTime": {
     "end_time": "2023-11-14T10:53:46.135491300Z",
     "start_time": "2023-11-14T10:53:46.076556500Z"
    },
    "collapsed": false
   },
   "outputs": [
    {
     "name": "stdout",
     "output_type": "stream",
     "text": [
      "     id                                  short_description\n",
      "0    70  This mod is to run Half-Life 2: Update (itself...\n",
      "1   240  Counter-Strike: Source blends Counter-Strike's...\n",
      "2   420  The second episodic sequel to one of the most ...\n",
      "3   620  Get Portal™2 In Motion™, Adventure, Puzzle, Sh...\n",
      "4  2870  In the distant future, the X universe faces a ...\n",
      "   app_id                                               tags\n",
      "0      70                                        ['Shooter']\n",
      "1     240                                        ['Shooter']\n",
      "2     420                             ['Shooter', ' Puzzle']\n",
      "3     620               ['Shooter', ' Puzzle', ' Adventure']\n",
      "4    2870  ['Shooter', ' Real Time Strategy (RTS)', ' Sim...\n",
      "10    76561198184596858\n",
      "30    76561198063207357\n",
      "39    76561198177937343\n",
      "61    76561198346767187\n",
      "86    76561198938824713\n",
      "Name: author.steamid, dtype: int64\n"
     ]
    }
   ],
   "source": [
    "print(df_desc.head())\n",
    "print(df_tags.head())\n",
    "print(df_reviews['author.steamid'].head())"
   ]
  },
  {
   "cell_type": "markdown",
   "metadata": {
    "collapsed": false
   },
   "source": [
    "__Clean the data__"
   ]
  },
  {
   "cell_type": "code",
   "execution_count": 7,
   "metadata": {
    "ExecuteTime": {
     "end_time": "2023-11-14T10:53:46.136489800Z",
     "start_time": "2023-11-14T10:53:46.094536Z"
    },
    "collapsed": false
   },
   "outputs": [],
   "source": [
    "import ast\n",
    "import re\n",
    "def tags_preprocess(tag):\n",
    "    tag = ast.literal_eval(tag)\n",
    "    tag = [x.lower() for x in tag]\n",
    "    tag = [x.replace(' ', '_') for x in tag]\n",
    "    tag = [x.replace('-', '_') for x in tag]\n",
    "    tag = ' '.join(tag)\n",
    "    return tag\n",
    "def desc_preprocess(desc):\n",
    "    desc = '' if pd.isna(desc) else str(desc)\n",
    "    desc = desc.lower()\n",
    "    desc = re.sub(r'[^\\w\\s]', '', desc)  # Remove punctuation\n",
    "    words = desc.split()  # Tokenize by splitting on whitespace\n",
    "    return ' '.join(words)"
   ]
  },
  {
   "cell_type": "code",
   "execution_count": 8,
   "metadata": {
    "ExecuteTime": {
     "end_time": "2023-11-14T10:53:46.136489800Z",
     "start_time": "2023-11-14T10:53:46.107535500Z"
    },
    "collapsed": false
   },
   "outputs": [],
   "source": [
    "# df_desc = df_desc.dropna(subset=['short_description'])\n",
    "df_tags['tags'] = df_tags['tags'].apply(lambda x: tags_preprocess(x))\n",
    "df_desc['short_description'] = df_desc['short_description'].apply(desc_preprocess)"
   ]
  },
  {
   "cell_type": "markdown",
   "metadata": {
    "collapsed": false
   },
   "source": [
    "__Extracting Features from the description dataset and the tags dataset__"
   ]
  },
  {
   "cell_type": "code",
   "execution_count": 45,
   "metadata": {
    "ExecuteTime": {
     "end_time": "2023-11-14T10:53:46.154492800Z",
     "start_time": "2023-11-14T10:53:46.122122600Z"
    },
    "collapsed": false
   },
   "outputs": [],
   "source": [
    "import numpy as np\n",
    "\n",
    "def data_split(df, train):\n",
    "    shuffled_indices = np.random.permutation(df.index)\n",
    "\n",
    "    if train < 1:\n",
    "        train_set_size = int(len(df) * train)\n",
    "    else:\n",
    "        train_set_size = train\n",
    "\n",
    "    train_indices = shuffled_indices[:train_set_size]\n",
    "    test_indices = shuffled_indices[train_set_size:]\n",
    "\n",
    "    train_set = df.loc[train_indices]\n",
    "    test_set = df.loc[test_indices]\n",
    "\n",
    "    return train_set, test_set\n",
    "\n",
    "\n",
    "df_tags_train, df_tags_test = data_split(df_tags, 200)\n",
    "df_desc_train, df_desc_test = data_split(df_desc, 200)\n",
    "df_games= df_reviews.drop_duplicates(subset='app_id')\n",
    "df_games_train, df_games_test = data_split(df_games, 200)\n"
   ]
  },
  {
   "cell_type": "code",
   "execution_count": null,
   "metadata": {
    "ExecuteTime": {
     "end_time": "2023-11-14T10:53:46.190570600Z",
     "start_time": "2023-11-14T10:53:46.153496Z"
    },
    "collapsed": false
   },
   "outputs": [],
   "source": [
    "import ast\n",
    "tfidf_vectorizer_desc = TfidfVectorizer(stop_words='english')\n",
    "tfidf_matrix_desc = tfidf_vectorizer_desc.fit_transform(df_desc['short_description'].tolist())\n",
    "print(tfidf_matrix_desc)"
   ]
  },
  {
   "cell_type": "markdown",
   "metadata": {
    "collapsed": false
   },
   "source": [
    "Create user class. The user class takes user model as input. A user could be an existed user in our reviews data set either a new user, needing cold start which will be implemented later."
   ]
  },
  {
   "cell_type": "code",
   "execution_count": 30,
   "metadata": {
    "ExecuteTime": {
     "end_time": "2023-11-14T11:07:45.356400600Z",
     "start_time": "2023-11-14T11:07:45.338702600Z"
    },
    "collapsed": false
   },
   "outputs": [],
   "source": [
    "from sklearn.metrics.pairwise import cosine_similarity\n",
    "from collections import Counter\n",
    "import pandas as pd\n",
    "\n",
    "\n",
    "class User_CB:\n",
    "    def __init__(self, user_mod, user_id=None):\n",
    "        self.user_mod = user_mod\n",
    "        self.user_id = user_id\n",
    "        self.profile = []  # This array contains game ids.\n",
    "        self.feature_arr = None  # Feature array (TF-IDF) depends on the profile array.\n",
    "        self.recommendations = []\n",
    "        self.liked_tags = Counter()\n",
    "        self.limit = 100\n",
    "        self.total_sum = 0\n",
    "\n",
    "    def hot_start(self):\n",
    "        df_user_reviews = df_reviews[(df_reviews[\"author.steamid\"] == self.user_id)]\n",
    "        for app_id in df_user_reviews[\"app_id\"].values:\n",
    "            self.like_game(app_id)\n",
    "\n",
    "    def hot_start_evaluation(self):\n",
    "        df_user_reviews = df_reviews[(df_reviews[\"author.steamid\"] == self.user_id)]\n",
    "        for app_id in df_user_reviews[\n",
    "            df_user_reviews[\"app_id\"].isin(df_tags_train[\"app_id\"])\n",
    "        ][\"app_id\"].values:\n",
    "            self.like_game(app_id)\n",
    "\n",
    "    def cold_start(self, liked_games):\n",
    "        for id in liked_games:\n",
    "            self.like_game(id)\n",
    "\n",
    "    def update_profile(self, app_id):\n",
    "        self.profile.append(app_id)\n",
    "        # Get tags for the new game and update tag counts\n",
    "        new_game_tags = df_tags[df_tags[\"app_id\"] == app_id][\"tags\"].iloc[0].split()\n",
    "        self.liked_tags.update(new_game_tags)\n",
    "        self.generate_new_profile_vector()\n",
    "\n",
    "    def generate_new_profile_vector(self):\n",
    "        desc = df_desc.loc[df_desc[\"id\"].isin(self.profile)]\n",
    "        self.feature_arr = tfidf_vectorizer_desc.transform(desc[\"short_description\"])\n",
    "\n",
    "    def like_game(self, app_id):\n",
    "        # if not app_id in self.profile:\n",
    "        self.update_profile(app_id)\n",
    "\n",
    "    def run_model_evaluation(self):\n",
    "        cosine_similarities = cosine_similarity(self.feature_arr, tfidf_matrix_desc)\n",
    "        adjusted_similarity_scores = []\n",
    "\n",
    "        for game_idx, game_id in enumerate(df_tags_test[\"app_id\"]):\n",
    "            # if game_id not in self.profile:  # Skip games already liked\n",
    "            custom_weight = self.calculate_custom_weight(game_id)\n",
    "            adjusted_score = (cosine_similarities[0][game_idx] + 1) * custom_weight\n",
    "            adjusted_similarity_scores.append((game_id, adjusted_score))\n",
    "\n",
    "        adjusted_similarity_scores = sorted(\n",
    "            adjusted_similarity_scores, key=lambda x: x[1], reverse=True\n",
    "        )\n",
    "        self.recommendations = [v for v, _ in adjusted_similarity_scores]\n",
    "        return self.recommendations\n",
    "\n",
    "    def run_model(self):\n",
    "        cosine_similarities = cosine_similarity(self.feature_arr, tfidf_matrix_desc)\n",
    "        adjusted_similarity_scores = []\n",
    "\n",
    "        for game_idx, game_id in enumerate(df_desc_test[\"id\"]):\n",
    "            # if game_id not in self.profile:  # Skip games already liked\n",
    "            custom_weight = self.calculate_custom_weight(game_id)\n",
    "            adjusted_score = (cosine_similarities[0][game_idx] + 1) * custom_weight\n",
    "            adjusted_similarity_scores.append((game_id, adjusted_score))\n",
    "\n",
    "        adjusted_similarity_scores = sorted(\n",
    "            adjusted_similarity_scores, key=lambda x: x[1], reverse=True\n",
    "        )\n",
    "        self.recommendations = [v for v, _ in adjusted_similarity_scores]\n",
    "        return self.recommendations\n",
    "\n",
    "    def calculate_custom_weight(self, game_id):\n",
    "        game_tags_list = df_tags[df_tags[\"app_id\"] == game_id][\"tags\"].iloc[0].split()\n",
    "        weight_sum = 0\n",
    "        total_sum = sum(dict(self.liked_tags).values())\n",
    "        for tag in game_tags_list:\n",
    "            if tag in dict(self.liked_tags):\n",
    "                weight_sum += self.liked_tags[tag]\n",
    "        return (weight_sum / total_sum) if total_sum > 0 else 0"
   ]
  },
  {
   "cell_type": "markdown",
   "metadata": {},
   "source": [
    "The core idea of collaborative filtering recommendation system is to construct the user-items matrix through the user's comments on the game, calculate the similarity between users to predict the user's rating of the game, and introduce the weight to ensure the credibility of similar users\n",
    "\n",
    "**Pipeline For CF model:**\n",
    "\n",
    "1. Data sampling\n",
    "2. Construct the user-item matrix\n",
    "3. Construct the similarity function\n",
    "4. Construct the rating prediction function\n",
    "5. Implement a complete recommendation process\n",
    "\n"
   ]
  },
  {
   "cell_type": "markdown",
   "metadata": {},
   "source": [
    "\n",
    "\n",
    "1. Data sampling\n",
    "\n",
    "The original dataset presents a formidable challenge due to its overwhelming number of users, which poses a significant hurdle in constructing the User-Item matrix without overtaxing the available RAM. To tackle this issue effectively, the implementation of a thoughtful data sampling strategy becomes imperative. Our primary goal is to strategically curtail the user count, thereby enhancing the efficiency of the data processing pipeline.\n",
    "\n",
    "Upon a detailed exploration of the dataset, a notable observation emerged: approximately 90% of the 12,000,000 users contributed more than 10 comments. Leveraging this insight, we refined our selection criteria, ultimately narrowing down the user pool to approximately 120,000 active users. This deliberate curation ensures that our subsequent analyses are not only more resource-efficient but also tailored to the subset of users who exhibit significant engagement, enhancing the relevance and depth of our findings.\n",
    "\n",
    "2. Construct the user-item matrix\n",
    "\n",
    "The construction of the user-item matrix was based on sampled dataset in the last step, comprising 120,000 distinct users and 315 unique games. Despite our efforts to filter out inactive users, the resulting matrix remains highly sparse.\n",
    "\n",
    "\n",
    "3. Construct the similarity function\n",
    "\n",
    "In our initial approach to the similarity function, we employed cosine similarity, a widely discussed method covered in our lectures, to compute the similarity between users. However, given that our user-items matrix comprises **120,000** users and **315** games, with many users reviewing only approximate 15 games, the 0-1 matrix is highly sparse. Cosine similarity proved ineffective for dealing with vectors that contain numerous empty values.\n",
    "\n",
    "To address this challenge, we explored alternative similarity metrics, including Pearson Correlation Coefficient, Spearman's Rank Correlation Coefficient, and Kendall's Tau. Despite these efforts, we encountered less than perfect results. Ultimately, we opted to enhance the dataset by smoothing it, replacing 0s with 1s and empty values with 0s.\n",
    "\n",
    "Our rationale for this transformation lies in our consideration that users who review a game, regardless of recommending it or not, exhibit an interest in the genre(s) of the game. Since users invest time playing a particular game, we assume they are inherently interested in its genre. Furthermore, if a user does not recommend a game, it suggests that the game itself lacks sufficient allure. Therefore, we chose to convert 0s to 1s, reflecting the user's implicit interest in the genre associated with the game.\n",
    "\n",
    "4. Construct the rating prediction function\n",
    "\n",
    "The rating prediction function was implemented with the equation taught through lecture.\n",
    "\n",
    "$\\hat{r}_{ui} = \\frac{\\sum_{j=1}^{M}  \\text{cred}(v_j, i) \\cdot \\text{sim}(u, v_j) \\cdot r_{v_j, i}}{\\sum_{j=1}^{M} \\text{cred}(v_j, i) \\cdot \\text{sim}(u, v_j)}$\n",
    "\n",
    "$\\text{sim}(u, v_j)$ refers to the similarity between $u$ and $v_j$\n",
    "\n",
    "$\\text{cred}(v_j, i)$ refers to how trustworthy the $v_j$'s rating on $i$. We introduce credibility to give each user a weight, so that the ratings are closer to those of the expert-like players. We measure the trustworthiness of a user by the following attributes in the dataset. \n",
    "\n",
    "After obtaining predicted ratings for all games, we will select the top N games to be recommended."
   ]
  },
  {
   "cell_type": "code",
   "execution_count": 32,
   "metadata": {
    "ExecuteTime": {
     "end_time": "2023-11-14T10:53:46.281051800Z",
     "start_time": "2023-11-14T10:53:46.261469800Z"
    },
    "collapsed": false
   },
   "outputs": [],
   "source": [
    "import bisect\n",
    "import numpy as np\n",
    "\n",
    "\n",
    "class User_CF:\n",
    "    def __init__(self, user_id, evaluation=False):\n",
    "        self.user_id = user_id\n",
    "        self.recommendations = []\n",
    "\n",
    "        if evaluation == True:\n",
    "            self.evaluation()\n",
    "        else:\n",
    "            # Generate users-items matrix\n",
    "            if user_id == 1:\n",
    "                self.cold_start()\n",
    "            else:\n",
    "                self.u_a_df = df_reviews.pivot_table(\n",
    "                    index=\"author.steamid\", columns=\"app_id\", values=\"recommended\"\n",
    "                )\n",
    "                self.reviewed_games_ids = set(\n",
    "                    self.u_a_df.loc[\n",
    "                        user_id, self.u_a_df.columns[~self.u_a_df.loc[user_id].isna()]\n",
    "                    ].index.tolist()\n",
    "                )\n",
    "\n",
    "            # dynamic update\n",
    "            self.buffer = []\n",
    "\n",
    "            # Intialize interest and rating matrix\n",
    "            self.interest_matrix = self.u_a_df.replace(0, 1)\n",
    "            self.interest_matrix = self.interest_matrix.fillna(0)\n",
    "            self.rating_matrix = self.u_a_df.replace(0, -1)\n",
    "            self.rating_matrix = self.rating_matrix.fillna(0)\n",
    "\n",
    "    def cold_start(self):\n",
    "        self.u_a_df = df_reviews.pivot_table(\n",
    "            index=\"author.steamid\", columns=\"app_id\", values=\"recommended\"\n",
    "        )\n",
    "        self.u_a_df.loc[1] = [np.nan] * len(self.u_a_df.columns)\n",
    "        self.reviewed_games_ids = set()\n",
    "\n",
    "    def similarity(self):\n",
    "        interest_matrix = self.interest_matrix\n",
    "        sim_matrix = self.cosine(interest_matrix)\n",
    "        sorted_df = sim_matrix.sort_values(by=\"Similarity\", axis=1, ascending=False)\n",
    "        return sorted_df\n",
    "\n",
    "    def cosine(self, matrix):\n",
    "        uid = self.user_id\n",
    "        target_user_ratings = matrix.loc[uid].to_frame().T\n",
    "        similarity_scores = cosine_similarity(target_user_ratings, matrix)\n",
    "        similarity_df = pd.DataFrame(\n",
    "            similarity_scores, columns=matrix.index, index=[\"Similarity\"]\n",
    "        )\n",
    "        return similarity_df\n",
    "\n",
    "    def comment(self, aid):\n",
    "        if aid in self.reviewed_games_ids:\n",
    "            return\n",
    "        self.buffer.append(aid)\n",
    "\n",
    "    def update_profile(self):\n",
    "        uid = self.user_id\n",
    "        for i in self.buffer:\n",
    "            self.reviewed_games_ids.add(i)\n",
    "        for aid in self.buffer:\n",
    "            self.interest_matrix.loc[uid][aid] = 1\n",
    "            self.rating_matrix.loc[uid][aid] = 1\n",
    "        self.buffer = []\n",
    "\n",
    "    def run_model_cf(self):\n",
    "        self.update_profile()\n",
    "\n",
    "        # Predict rating by 5 similar users\n",
    "        similar_users = self.similarity()\n",
    "        ratings = []\n",
    "        app_list = self.u_a_df.columns.tolist()\n",
    "        for aid in app_list:\n",
    "            if aid in self.reviewed_games_ids:\n",
    "                continue\n",
    "            count = 0\n",
    "            up = 0\n",
    "            down = 0\n",
    "            user_list = similar_users.columns.tolist()[1:]\n",
    "            for uid in user_list:\n",
    "                if count == 5:\n",
    "                    break\n",
    "\n",
    "                rating = self.rating_matrix.loc[uid][aid]\n",
    "\n",
    "                if rating == 0 or uid == self.user_id:\n",
    "                    continue\n",
    "\n",
    "                count += 1\n",
    "                up += similar_users.iloc[0][uid] * rating * self.credibility(uid, aid)\n",
    "                down += similar_users.iloc[0][uid] * self.credibility(uid, aid)\n",
    "\n",
    "            final_rating = up / down\n",
    "            ratings.append((final_rating, aid))\n",
    "\n",
    "        ratings.sort()\n",
    "        self.recommendations = [v for _, v in ratings]\n",
    "\n",
    "        return self.recommendations\n",
    "\n",
    "    def evaluation(self):\n",
    "        user_id = self.user_id\n",
    "\n",
    "        u_a_df = df_reviews.pivot_table(\n",
    "            index=\"author.steamid\", columns=\"app_id\", values=\"recommended\"\n",
    "        )\n",
    "\n",
    "        train_app_id = df_tags_train[\"app_id\"].tolist()\n",
    "        test_app_id = df_tags_test[\"app_id\"].tolist()\n",
    "\n",
    "        reviewed_games_ids = set(\n",
    "            u_a_df.loc[\n",
    "                user_id, u_a_df.columns[~u_a_df.loc[user_id].isna()]\n",
    "            ].index.tolist()\n",
    "        )\n",
    "        reviewed_games_ids = set([i for i in reviewed_games_ids if i in train_app_id])\n",
    "\n",
    "        interest = u_a_df[train_app_id]\n",
    "        interest_matrix = interest.replace(0, 1)\n",
    "        interest_matrix = interest_matrix.fillna(0)\n",
    "        rating = u_a_df[test_app_id]\n",
    "        rating_matrix = u_a_df.replace(0, -1)\n",
    "        rating_matrix = rating_matrix.fillna(0)\n",
    "\n",
    "        sim_matrix = self.cosine(interest_matrix)\n",
    "        similar_users = sim_matrix.sort_values(by=\"Similarity\", axis=1, ascending=False)\n",
    "\n",
    "        ratings = []\n",
    "        app_list = test_app_id\n",
    "        for aid in app_list:\n",
    "            count = 0\n",
    "            up = 0\n",
    "            down = 0\n",
    "            user_list = similar_users.columns.tolist()[1:]\n",
    "            for uid in user_list:\n",
    "                if count == 5:\n",
    "                    break\n",
    "\n",
    "                rating = rating_matrix.loc[uid][aid]\n",
    "\n",
    "                if rating == 0 or uid == user_id:\n",
    "                    continue\n",
    "\n",
    "                count += 1\n",
    "                up += similar_users.iloc[0][uid] * rating * self.credibility(uid, aid)\n",
    "                down += similar_users.iloc[0][uid] * self.credibility(uid, aid)\n",
    "\n",
    "            final_rating = up / down\n",
    "            ratings.append((final_rating, aid))\n",
    "\n",
    "        ratings.sort()\n",
    "        recommendations = [v for _, v in ratings]\n",
    "\n",
    "        return recommendations\n",
    "\n",
    "    def credibility(self, user_id, app_id):\n",
    "        df = df_reviews\n",
    "\n",
    "        def rank(sorted_list, value):\n",
    "            # bisect_left function returns the index of the inserted value, which is the point that can be inserted while keeping the list sorted\n",
    "            index = bisect.bisect_left(sorted_list, value)\n",
    "            # Check if the index is in the range of the list and if the value of the list at the index is equal to the value we are looking for\n",
    "            if index != len(sorted_list) and sorted_list[index] == value:\n",
    "                return index + 1\n",
    "            return -1\n",
    "\n",
    "        def give_vote_score():\n",
    "            vote_helpful = df.loc[\n",
    "                (df[\"author.steamid\"] == user_id) & (df[\"app_id\"] == app_id),\n",
    "                \"votes_helpful\",\n",
    "            ].values[0]\n",
    "            vote_funny = df.loc[\n",
    "                (df[\"author.steamid\"] == user_id) & (df[\"app_id\"] == app_id),\n",
    "                \"votes_funny\",\n",
    "            ].values[0]\n",
    "            if vote_helpful == 0:\n",
    "                vote_score = 1\n",
    "            elif 0 < vote_helpful < 10:\n",
    "                vote_score = 2\n",
    "            elif 10 <= vote_helpful < 50:\n",
    "                vote_score = 3\n",
    "            elif 50 <= vote_helpful < 100:\n",
    "                vote_score = 4\n",
    "            elif vote_helpful >= 100:\n",
    "                vote_score = 5\n",
    "            if vote_funny >= 10:\n",
    "                vote_score += 1\n",
    "            return vote_score\n",
    "\n",
    "        def give_time_score():\n",
    "            play_time = df.loc[\n",
    "                (df[\"author.steamid\"] == user_id) & (df[\"app_id\"] == app_id),\n",
    "                \"author.playtime_at_review\",\n",
    "            ].values[0]\n",
    "            if play_time < 100:\n",
    "                time_score = 1\n",
    "            elif 100 <= play_time < 500:\n",
    "                time_score = 2\n",
    "            elif 500 <= play_time < 1000:\n",
    "                time_score = 3\n",
    "            elif play_time >= 1000:\n",
    "                time_score = 4\n",
    "            elif np.isnan(play_time):\n",
    "                time_score = 0.1\n",
    "\n",
    "            return time_score\n",
    "\n",
    "        # Base score\n",
    "        Base_score = give_vote_score() + give_time_score()\n",
    "        # timestamp_updated\n",
    "        timestamp = (\n",
    "            df.loc[df[\"app_id\"] == app_id, \"timestamp_updated\"]\n",
    "            .sort_values()\n",
    "            .values.tolist()\n",
    "        )\n",
    "        # Bigger timestamp implies newer review\n",
    "        user_timestamp = df.loc[\n",
    "            (df[\"app_id\"] == app_id) & (df[\"author.steamid\"] == user_id),\n",
    "            \"timestamp_updated\",\n",
    "        ].values[0]\n",
    "        rank = rank(timestamp, user_timestamp)\n",
    "        newest_per = rank / len(timestamp)\n",
    "        score = Base_score * newest_per\n",
    "        # steam_purchase\n",
    "        if (\n",
    "            df.loc[\n",
    "                (df[\"author.steamid\"] == user_id) & (df[\"app_id\"] == app_id),\n",
    "                \"steam_purchase\",\n",
    "            ].values[0]\n",
    "            == False\n",
    "        ):\n",
    "            score *= 0.5\n",
    "        # written_during_early_access\n",
    "        if (\n",
    "            df.loc[\n",
    "                (df[\"author.steamid\"] == user_id) & (df[\"app_id\"] == app_id),\n",
    "                \"written_during_early_access\",\n",
    "            ].values[0]\n",
    "            == True\n",
    "        ):\n",
    "            score *= 0.5\n",
    "\n",
    "        return round(score, 2)"
   ]
  },
  {
   "cell_type": "markdown",
   "metadata": {
    "collapsed": false
   },
   "source": [
    "__UI MODULE__"
   ]
  },
  {
   "cell_type": "code",
   "execution_count": null,
   "metadata": {
    "ExecuteTime": {
     "end_time": "2023-11-14T10:53:46.431871900Z",
     "start_time": "2023-11-14T10:53:46.279052400Z"
    },
    "collapsed": false
   },
   "outputs": [],
   "source": [
    "import random\n",
    "import ipywidgets as widgets\n",
    "from IPython.display import display, clear_output\n",
    "\n",
    "\n",
    "class SteamGameRecommenderUI:\n",
    "    def __init__(self):\n",
    "        self.temp_liked_games = []\n",
    "        self.user_id = None\n",
    "        self.current_page = 0\n",
    "        self.user_cb = None\n",
    "        self.user_cf = None\n",
    "        self.limit = 60\n",
    "        self.recommended_games_ids = []\n",
    "        self.login_input = widgets.Text(description=\"User ID:\")\n",
    "        self.login_button = widgets.Button(description=\"Login\")\n",
    "        self.reg_button = widgets.Button(description=\"Register\")\n",
    "        self.next_button = widgets.Button(description=\"Next\")\n",
    "        self.next_page_button = widgets.Button(description=\"Next Page\")\n",
    "        self.previous_page_button = widgets.Button(description=\"Previous Page\")\n",
    "        self.search_input = widgets.Text(description=\"Search Game:\")\n",
    "        self.search_button = widgets.Button(description=\"Search\")\n",
    "        self.output_area = widgets.Output()\n",
    "        self.refresh_button = widgets.Button(description=\"Refresh\")\n",
    "        self.refresh_button.on_click(self.on_refresh_clicked)\n",
    "\n",
    "        self.login_button.on_click(self.on_login_clicked)\n",
    "        self.reg_button.on_click(self.on_register_clicked)\n",
    "        self.next_page_button.on_click(self.on_next_page_clicked)\n",
    "        self.previous_page_button.on_click(self.on_previous_page_clicked)\n",
    "\n",
    "    def on_register_clicked(self, b):\n",
    "        self.display_registration_screen()\n",
    "\n",
    "    def display_registration_screen(self):\n",
    "        with self.output_area:\n",
    "            clear_output()\n",
    "            random_games = random.sample(df_games[\"app_name\"].tolist(), 10)\n",
    "            games_vbox = widgets.VBox()\n",
    "            for game_name in random_games:\n",
    "                game_button = widgets.Button(\n",
    "                    description=game_name, layout=widgets.Layout(width=\"auto\")\n",
    "                )\n",
    "                game_button.on_click(\n",
    "                    lambda b, game=game_name: self.on_game_selected(b, game)\n",
    "                )\n",
    "                games_vbox.children += (game_button,)\n",
    "\n",
    "            self.next_button.disabled = True\n",
    "            self.next_button.on_click(self.on_next_clicked)\n",
    "            display(widgets.VBox([games_vbox, self.next_button]))\n",
    "\n",
    "    def on_game_selected(self, b, game):\n",
    "        game_id = df_games.loc[df_games[\"app_name\"] == game][\"app_id\"].tolist()[0]\n",
    "        self.temp_liked_games.append(game_id)\n",
    "        b.description = f\"{game} (Selected)\"\n",
    "        b.disabled = True\n",
    "        b.button_style = \"success\"\n",
    "        self.next_button.disabled = len(self.temp_liked_games) == 0\n",
    "\n",
    "    def on_next_clicked(self, b):\n",
    "        self.user_cb = User_CB(0)\n",
    "        self.user_cf = User_CF(1)\n",
    "        self.user_cb.cold_start(self.temp_liked_games)\n",
    "        for id in self.temp_liked_games:\n",
    "            self.user_cf.comment(id)\n",
    "        recommendations_cb = self.user_cb.run_model()\n",
    "        recommendations_cf = self.user_cf.run_model_cf()\n",
    "        self._load_games_db(recommendations_cb, recommendations_cf)\n",
    "        self.reset_current_page()\n",
    "        self.display_recommended_games()\n",
    "\n",
    "    def _load_games_db(self, recommendations_cb, recommendations_cf):\n",
    "        rank = []\n",
    "        for app_id in recommendations_cf:\n",
    "            score = 0.4 * (recommendations_cb.index(app_id) + 1) + 0.6 * (\n",
    "                recommendations_cf.index(app_id) + 1\n",
    "            )\n",
    "            rank.append((score, app_id))\n",
    "        rank.sort()\n",
    "        self.recommended_games_ids = [v for _, v in rank]\n",
    "\n",
    "    def display(self):\n",
    "        login_hbox = widgets.HBox(\n",
    "            [self.login_input, self.login_button, self.reg_button]\n",
    "        )\n",
    "        display(login_hbox, self.output_area)\n",
    "\n",
    "    def on_login_clicked(self, b):\n",
    "        self.user_id = int(self.login_input.value)\n",
    "        self.user_cb = User_CB(0, self.user_id)\n",
    "        self.user_cb.hot_start()\n",
    "        self.user_cf = User_CF(self.user_id)\n",
    "        recommendations_cb = self.user_cb.run_model()\n",
    "        recommendations_cf = self.user_cf.run_model_cf()\n",
    "        self._load_games_db(recommendations_cb, recommendations_cf)\n",
    "        self.display_recommended_games()\n",
    "\n",
    "    def display_recommended_games(self):\n",
    "        with self.output_area:\n",
    "            clear_output()\n",
    "            games_vbox = widgets.VBox()\n",
    "            for game_id in self.get_recommended_games():\n",
    "                game_name = df_games.loc[df_games[\"app_id\"] == game_id][\n",
    "                    \"app_name\"\n",
    "                ].tolist()[0]\n",
    "                game_label = widgets.Label(f\"{game_id}: {game_name}\")\n",
    "                like_button = widgets.Button(\n",
    "                    description=\"Like\", layout=widgets.Layout(width=\"auto\")\n",
    "                )\n",
    "                view_button = widgets.Button(\n",
    "                    description=\"View\", layout=widgets.Layout(width=\"auto\")\n",
    "                )\n",
    "\n",
    "                if game_id in self.temp_liked_games:\n",
    "                    like_button.description = \"Liked\"\n",
    "                    like_button.disabled = True\n",
    "                else:\n",
    "                    like_button.description = \"Like\"\n",
    "                    like_button.disabled = False\n",
    "\n",
    "                like_button.on_click(\n",
    "                    lambda b, game_id=game_id: self.on_like_clicked(b, game_id)\n",
    "                )\n",
    "                view_button.on_click(\n",
    "                    lambda b, game_id=game_id: self.display_game_details(b, game_id)\n",
    "                )\n",
    "                buttons_hbox = widgets.HBox(\n",
    "                    [like_button, view_button],\n",
    "                    layout=widgets.Layout(justify_content=\"flex-end\"),\n",
    "                )\n",
    "                game_hbox = widgets.HBox(\n",
    "                    [game_label, buttons_hbox],\n",
    "                    layout=widgets.Layout(justify_content=\"space-between\"),\n",
    "                )\n",
    "                games_vbox.children += (game_hbox,)\n",
    "\n",
    "            navigation_box = widgets.HBox(\n",
    "                [self.previous_page_button, self.refresh_button, self.next_page_button],\n",
    "                layout=widgets.Layout(justify_content=\"space-between\"),\n",
    "            )\n",
    "            display(widgets.VBox([games_vbox, navigation_box]))\n",
    "\n",
    "    def get_recommended_games(self):\n",
    "        start = self.current_page * 10\n",
    "        end = start + 10\n",
    "        return self.recommended_games_ids[start:end]\n",
    "\n",
    "    def on_next_page_clicked(self, b):\n",
    "        self.current_page += 1\n",
    "        self.display_recommended_games()\n",
    "\n",
    "    def on_previous_page_clicked(self, b):\n",
    "        if self.current_page > 0:\n",
    "            self.current_page -= 1\n",
    "        self.display_recommended_games()\n",
    "\n",
    "    def on_back_clicked(self, b):\n",
    "        self.display_recommended_games()\n",
    "\n",
    "    def reset_current_page(self):\n",
    "        self.current_page = 0\n",
    "\n",
    "    def display_game_details(self, b, game_id):\n",
    "        with self.output_area:\n",
    "            clear_output()\n",
    "            game_tags_str = df_tags[df_tags[\"app_id\"] == game_id][\"tags\"].iloc[0]\n",
    "            game_tags = game_tags_str.split(\" \")\n",
    "            game_desc = df_desc[df_desc[\"id\"] == game_id][\"short_description\"].iloc[0]\n",
    "            tags_hbox = widgets.HBox(\n",
    "                layout=widgets.Layout(flex_flow=\"row wrap\", align_items=\"flex-start\")\n",
    "            )\n",
    "            for tag in game_tags:\n",
    "                tag = tag.replace(\"_\", \" \").strip()\n",
    "                tag_button = widgets.Button(\n",
    "                    description=tag,\n",
    "                    disabled=True,\n",
    "                    button_style=\"\",\n",
    "                    layout=widgets.Layout(width=\"auto\", margin=\"2px\"),\n",
    "                )\n",
    "                tags_hbox.children += (tag_button,)\n",
    "            desc_html = widgets.HTML(value=f\"<strong>Description:</strong> {game_desc}\")\n",
    "\n",
    "            back_button = widgets.Button(description=\"Back\")\n",
    "            back_button.on_click(lambda b: self.on_back_clicked(b))\n",
    "            display(widgets.VBox([tags_hbox, desc_html, back_button]))\n",
    "\n",
    "    def on_like_clicked(self, b, game_id):\n",
    "        self.temp_liked_games.append(game_id)\n",
    "        b.description = \"Liked\"\n",
    "        b.disabled = True\n",
    "\n",
    "    def on_refresh_clicked(self, b):\n",
    "        for game_id in self.temp_liked_games:\n",
    "            self.user_cb.like_game(game_id)\n",
    "            self.user_cf.comment(game_id)\n",
    "        self.temp_liked_games = []\n",
    "        recommendations_cb = self.user_cb.run_model()\n",
    "        recommendations_cf = self.user_cf.run_model_cf()\n",
    "        self._load_games_db(recommendations_cb, recommendations_cf)\n",
    "        self.reset_current_page()\n",
    "        self.display_recommended_games()\n",
    "\n",
    "\n",
    "# Usage\n",
    "ui = SteamGameRecommenderUI()\n",
    "ui.display()"
   ]
  },
  {
   "cell_type": "markdown",
   "metadata": {
    "collapsed": false
   },
   "source": [
    "__Evaluation For Content Based Model__"
   ]
  },
  {
   "cell_type": "code",
   "execution_count": 38,
   "metadata": {},
   "outputs": [
    {
     "data": {
      "text/plain": [
       "array([76561198062813911, 76561198315585536, 76561198192166873,\n",
       "       76561198045381877, 76561198064946151, 76561198013146396,\n",
       "       76561198027973295, 76561198239163744, 76561197969749884,\n",
       "       76561197997059777], dtype=int64)"
      ]
     },
     "execution_count": 38,
     "metadata": {},
     "output_type": "execute_result"
    }
   ],
   "source": [
    "top_reviewers = df_count[:10]['index'].values\n",
    "top_reviewers"
   ]
  },
  {
   "cell_type": "code",
   "execution_count": 36,
   "metadata": {
    "ExecuteTime": {
     "end_time": "2023-11-14T11:24:48.959007900Z",
     "start_time": "2023-11-14T11:24:48.926475600Z"
    },
    "collapsed": false
   },
   "outputs": [],
   "source": [
    "'''\n",
    "get top n recommended game\n",
    "'''\n",
    "def get_res(res_cb, res_cf, n):\n",
    "    rank = []\n",
    "    for app_id in res_cf:\n",
    "        score = 0.4* (res_cb.index(app_id)+1) + 0.6 * (res_cf.index(app_id)+1)\n",
    "        rank.append((score, app_id))\n",
    "    rank.sort()\n",
    "    res = [v for _, v in rank]\n",
    "    return res[:n]"
   ]
  },
  {
   "cell_type": "code",
   "execution_count": 37,
   "metadata": {},
   "outputs": [],
   "source": [
    "'''\n",
    "get user uid's like list\n",
    "'''\n",
    "def get_all_liked(uid):\n",
    "    return [i for i  in df_reviews[(df_reviews['author.steamid'] == uid) & (df_reviews[\"recommended\"] == True)][\"app_id\"].unique() if i in df_tags_test[\"app_id\"].unique()]"
   ]
  },
  {
   "cell_type": "code",
   "execution_count": 46,
   "metadata": {
    "ExecuteTime": {
     "end_time": "2023-11-14T11:44:08.444704300Z",
     "start_time": "2023-11-14T11:44:08.098913500Z"
    },
    "collapsed": false
   },
   "outputs": [],
   "source": [
    "'''\n",
    "compute recalls for top n users\n",
    "'''\n",
    "def evaluate(top_reviewers):\n",
    "    recalls = []\n",
    "\n",
    "    for user_id in top_reviewers:\n",
    "\n",
    "        # random train set and test set for each user\n",
    "        df_tags_train, df_tags_test = data_split(df_tags, 200)\n",
    "        df_desc_train, df_desc_test = data_split(df_desc, 200)\n",
    "        df_games= df_reviews.drop_duplicates(subset='app_id')\n",
    "        df_games_train, df_games_test = data_split(df_games, 200)\n",
    "        \n",
    "        user_cb_eva = User_CB(0, user_id)\n",
    "        user_cf_eva = User_CF(user_id, True)\n",
    "\n",
    "        user_cb_eva.hot_start_evaluation()\n",
    "        res_cb = user_cb_eva.run_model_evaluation()\n",
    "        res_cf = user_cf_eva.evaluation()\n",
    "        \n",
    "        all_liked = get_all_liked(user_id)\n",
    "        n_hit = len(set(get_res(res_cb, res_cf, 10)) & set(all_liked))\n",
    "        recalls.append(n_hit / len(all_liked))\n",
    "\n",
    "    stat = pd.DataFrame([recalls], columns=top_reviewers)\n",
    "    return stat"
   ]
  },
  {
   "cell_type": "code",
   "execution_count": null,
   "metadata": {
    "collapsed": false
   },
   "outputs": [],
   "source": [
    "stat = evaluate(top_reviewers)"
   ]
  },
  {
   "cell_type": "code",
   "execution_count": 51,
   "metadata": {},
   "outputs": [
    {
     "data": {
      "image/png": "[encoded data removed]",
      "text/plain": [
       "<Figure size 640x480 with 1 Axes>"
      ]
     },
     "metadata": {},
     "output_type": "display_data"
    }
   ],
   "source": [
    "import matplotlib.pyplot as plt\n",
    "\n",
    "stat.plot(kind='bar', x=None)  # Assumes the column names are used as x-axis labels\n",
    "plt.title('Recall for top n users')\n",
    "plt.xlabel('User')\n",
    "plt.ylabel('Recall')\n",
    "plt.show()"
   ]
  },
  {
   "cell_type": "code",
   "execution_count": 66,
   "metadata": {},
   "outputs": [],
   "source": [
    "data = [0.1, 0.1, 0.2, 0.3, 0.3, 0.4]"
   ]
  },
  {
   "cell_type": "code",
   "execution_count": 67,
   "metadata": {},
   "outputs": [
    {
     "data": {
      "image/png": "[encoded data removed]",
      "text/plain": [
       "<Figure size 1200x800 with 6 Axes>"
      ]
     },
     "metadata": {},
     "output_type": "display_data"
    }
   ],
   "source": [
    "def plot_pie(data):\n",
    "    _, axs = plt.subplots(2, 3, figsize=(12, 8))\n",
    "\n",
    "    axs = axs.flatten()\n",
    "\n",
    "    for i, value in enumerate(data):\n",
    "        axs[i].pie([value, 1 - value], labels=['Clicked', 'Not clicked'], autopct='%1.1f%%', startangle=90)\n",
    "        axs[i].set_title(f'Epoch {i + 1}')\n",
    "\n",
    "    plt.tight_layout()\n",
    "    plt.show()\n",
    "\n",
    "plot_pie(data)"
   ]
  },
  {
   "cell_type": "code",
   "execution_count": 68,
   "metadata": {},
   "outputs": [
    {
     "data": {
      "image/png": "[encoded data removed]",
      "text/plain": [
       "<Figure size 800x400 with 1 Axes>"
      ]
     },
     "metadata": {},
     "output_type": "display_data"
    }
   ],
   "source": [
    "def plot_line(data):\n",
    "\n",
    "    x_values = np.arange(1, 7)\n",
    "    plt.figure(figsize=(8, 4))\n",
    "    plt.plot(x_values, data, marker='o', linestyle='-', color='b')\n",
    "    plt.title('CTR')\n",
    "    plt.xlabel('Epoch')\n",
    "    plt.ylabel('Percentage')\n",
    "\n",
    "    plt.tight_layout()\n",
    "    plt.show()\n",
    "\n",
    "plot_line(data)"
   ]
  }
 ],
 "metadata": {
  "kernelspec": {
   "display_name": "Python 3",
   "language": "python",
   "name": "python3"
  },
  "language_info": {
   "codemirror_mode": {
    "name": "ipython",
    "version": 3
   },
   "file_extension": ".py",
   "mimetype": "text/x-python",
   "name": "python",
   "nbconvert_exporter": "python",
   "pygments_lexer": "ipython3",
   "version": "3.11.4"
  }
 },
 "nbformat": 4,
 "nbformat_minor": 0
}

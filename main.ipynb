{
 "cells": [
  {
   "cell_type": "markdown",
   "source": [
    "__COMP9727 PROJECT:A STEAM GAME RECOMMENDER SYSTEM__\n"
   ],
   "metadata": {
    "collapsed": false
   }
  },
  {
   "cell_type": "markdown",
   "source": [
    "# Introduction\n",
    "This model is a recommender system for Steam games. It is based on the dataset from Steam, which is a digital distribution platform for video games. The dataset contains 316 games and 21 million users. The recommender system is based on collaborative filtering and content based model. The system integrates the recommender module and a user interaction module."
   ],
   "metadata": {
    "collapsed": false
   }
  },
  {
   "cell_type": "markdown",
   "source": [
    "__PIPELINE__:\n",
    "1. Data preprocessing, Analysis and Visualization\n",
    "2. Extracting features from the game dataset, build feature vectors for games. The item vector is a hierarchical structure. First, for the description, use text vectorization technology (such as TF-IDF or Word2Vec) to process the description text of the game to generate a dense numerical vector for each game. For Tags, we still use TF-IDF. But since the game tag describes the game more significantly, we manually increase the TF-IDF weight of the tag."
   ],
   "metadata": {
    "collapsed": false
   }
  },
  {
   "cell_type": "markdown",
   "source": [
    "__Inporting Libraries__"
   ],
   "metadata": {
    "collapsed": false
   }
  },
  {
   "cell_type": "code",
   "execution_count": 536,
   "outputs": [],
   "source": [
    "import pandas as pd\n",
    "from sklearn.feature_extraction.text import TfidfVectorizer"
   ],
   "metadata": {
    "collapsed": false,
    "ExecuteTime": {
     "end_time": "2023-11-08T13:07:19.069687900Z",
     "start_time": "2023-11-08T13:07:19.035314500Z"
    }
   }
  },
  {
   "cell_type": "markdown",
   "source": [
    "__Data Preprocessing__"
   ],
   "metadata": {
    "collapsed": false
   }
  },
  {
   "cell_type": "code",
   "execution_count": 537,
   "outputs": [],
   "source": [
    "file_path_reviews = \"steam_reviews.csv\"\n",
    "file_path_desc = \"desc.csv\"\n",
    "file_path_tags = \"tags.csv\"\n",
    "\n",
    "df_reviews = pd.read_csv(file_path_reviews)\n",
    "df_desc = pd.read_csv(file_path_desc)\n",
    "df_tags = pd.read_csv(file_path_tags)"
   ],
   "metadata": {
    "collapsed": false,
    "ExecuteTime": {
     "end_time": "2023-11-08T13:08:03.303440700Z",
     "start_time": "2023-11-08T13:07:19.041583500Z"
    }
   }
  },
  {
   "cell_type": "markdown",
   "source": [
    "__Clean the data__"
   ],
   "metadata": {
    "collapsed": false
   }
  },
  {
   "cell_type": "code",
   "execution_count": 538,
   "outputs": [],
   "source": [
    "\n",
    "import re\n",
    "def tags_preprocess(tag):\n",
    "    tag = ast.literal_eval(tag)\n",
    "    tag = [x.lower() for x in tag]\n",
    "    tag = [x.replace(' ', '_') for x in tag]\n",
    "    tag = [x.replace('-', '_') for x in tag]\n",
    "    tag = ' '.join(tag)\n",
    "    return tag\n",
    "def desc_preprocess(desc):\n",
    "    desc = '' if pd.isna(desc) else str(desc)\n",
    "    desc = desc.lower()\n",
    "    desc = re.sub(r'[^\\w\\s]', '', desc)  # Remove punctuation\n",
    "    words = desc.split()  # Tokenize by splitting on whitespace\n",
    "    return ' '.join(words)"
   ],
   "metadata": {
    "collapsed": false,
    "ExecuteTime": {
     "end_time": "2023-11-08T13:08:03.318855200Z",
     "start_time": "2023-11-08T13:08:03.306439200Z"
    }
   }
  },
  {
   "cell_type": "code",
   "execution_count": 539,
   "outputs": [],
   "source": [
    "df_desc = df_desc.dropna(subset=['short_description'])\n",
    "df_tags['tags'] = df_tags['tags'].apply(lambda x: tags_preprocess(x))\n",
    "df_desc['short_description'] = df_desc['short_description'].apply(desc_preprocess)"
   ],
   "metadata": {
    "collapsed": false,
    "ExecuteTime": {
     "end_time": "2023-11-08T13:08:03.351118600Z",
     "start_time": "2023-11-08T13:08:03.321856100Z"
    }
   }
  },
  {
   "cell_type": "markdown",
   "source": [
    "__Extracting Features from the description dataset and the tags dataset__"
   ],
   "metadata": {
    "collapsed": false
   }
  },
  {
   "cell_type": "code",
   "execution_count": 540,
   "outputs": [
    {
     "name": "stdout",
     "output_type": "stream",
     "text": [
      "  (0, 944)\t0.27707007158803415\n",
      "  (0, 1488)\t0.27707007158803415\n",
      "  (0, 2527)\t0.2585299893139412\n",
      "  (0, 1561)\t0.27707007158803415\n",
      "  (0, 2179)\t0.23517224803621373\n",
      "  (0, 1692)\t0.23517224803621373\n",
      "  (0, 2924)\t0.2386355452946131\n",
      "  (0, 1743)\t0.18493768577197395\n",
      "  (0, 475)\t0.27707007158803415\n",
      "  (0, 1200)\t0.24537559159788733\n",
      "  (0, 406)\t0.27707007158803415\n",
      "  (0, 1126)\t0.18493768577197395\n",
      "  (0, 2758)\t0.18493768577197395\n",
      "  (0, 1124)\t0.10053639446178186\n",
      "  (0, 2037)\t0.27707007158803415\n",
      "  (0, 2542)\t0.23517224803621373\n",
      "  (0, 1814)\t0.27707007158803415\n",
      "  (1, 535)\t0.1923484174817216\n",
      "  (1, 1025)\t0.2235605171169861\n",
      "  (1, 1809)\t0.29737536420845806\n",
      "  (1, 2627)\t0.263358129952708\n",
      "  (1, 1075)\t0.2774765577905971\n",
      "  (1, 2874)\t0.1734214546066264\n",
      "  (1, 2077)\t0.29737536420845806\n",
      "  (1, 2397)\t0.263358129952708\n",
      "  :\t:\n",
      "  (313, 1038)\t0.18556620844540345\n",
      "  (313, 382)\t0.18556620844540345\n",
      "  (313, 25)\t0.18556620844540345\n",
      "  (313, 584)\t0.18556620844540345\n",
      "  (313, 263)\t0.18556620844540345\n",
      "  (313, 2108)\t0.18556620844540345\n",
      "  (313, 1853)\t0.18556620844540345\n",
      "  (313, 1955)\t0.18556620844540345\n",
      "  (313, 2225)\t0.18556620844540345\n",
      "  (313, 868)\t0.18556620844540345\n",
      "  (313, 449)\t0.17314908684092828\n",
      "  (313, 2146)\t0.16433899885646908\n",
      "  (313, 1357)\t0.32867799771293815\n",
      "  (313, 2779)\t0.16433899885646908\n",
      "  (313, 1007)\t0.16433899885646908\n",
      "  (313, 399)\t0.13069466766305954\n",
      "  (313, 386)\t0.14311178926753468\n",
      "  (313, 1009)\t0.13335933800693742\n",
      "  (313, 715)\t0.16433899885646908\n",
      "  (313, 1341)\t0.15192187725199394\n",
      "  (313, 2836)\t0.15750536371372867\n",
      "  (313, 1090)\t0.13950475564751874\n",
      "  (313, 853)\t0.42933536780260406\n",
      "  (313, 1363)\t0.14311178926753468\n",
      "  (313, 268)\t0.11505094453585993\n"
     ]
    }
   ],
   "source": [
    "import ast\n",
    "tfidf_vectorizer_desc = TfidfVectorizer(stop_words='english')\n",
    "tfidf_matrix_desc = tfidf_vectorizer_desc.fit_transform(df_desc['short_description'].tolist())\n",
    "print(tfidf_matrix_desc)"
   ],
   "metadata": {
    "collapsed": false,
    "ExecuteTime": {
     "end_time": "2023-11-08T13:08:03.408781400Z",
     "start_time": "2023-11-08T13:08:03.350102600Z"
    }
   }
  },
  {
   "cell_type": "markdown",
   "source": [
    "Create user class. The user class takes user model as input. A user could be an existed user in our reviews data set either a new user, needing cold start which will be implemented later."
   ],
   "metadata": {
    "collapsed": false
   }
  },
  {
   "cell_type": "code",
   "execution_count": 585,
   "outputs": [],
   "source": [
    "from sklearn.metrics.pairwise import cosine_similarity\n",
    "class User:\n",
    "    def __init__(self, user_mod, user_id):\n",
    "        self.user_mod = user_mod\n",
    "        self.user_id = user_id\n",
    "        self.profile = [] # this array contains game ids.\n",
    "        self.feature_arr = None # feature array(TF-IDF) depends on the profile array.\n",
    "        self.tags = []\n",
    "        self.recommendations = []\n",
    "        self.limit = 30\n",
    "    def hot_start(self):\n",
    "        df_user_reviews = df_reviews[df_reviews['author.steamid'] == self.user_id]\n",
    "        for i in df_user_reviews['app_id'].values:\n",
    "            self.update_profile(i)\n",
    "        self.generate_new_profile_vector()\n",
    "    def cold_start(self):\n",
    "        pass\n",
    "    def update_profile(self, app_id):\n",
    "        self.profile.append(app_id)\n",
    "    def generate_new_profile_vector(self):\n",
    "        desc = df_desc.loc[df_desc['id'].isin(self.profile)]\n",
    "        self.tags = df_tags[df_tags['app_id'].isin(self.profile)]['tags']\n",
    "        self.feature_arr = tfidf_vectorizer_desc.transform(desc['short_description'])\n",
    "\n",
    "    def like_game(self,app_id):\n",
    "        self.update_profile(app_id)\n",
    "    def run_model(self):\n",
    "        cosine_similarities = cosine_similarity(self.feature_arr, tfidf_matrix_desc)\n",
    "        mean_cosine_similarities = cosine_similarities.mean(axis=0)\n",
    "        similarity_scores_df = pd.DataFrame(mean_cosine_similarities, index=df_desc.index, columns=['similarity_score'])\n",
    "\n",
    "\n",
    "        sorted_similarity_scores_df = similarity_scores_df.sort_values(by='similarity_score', ascending=False)\n",
    "        user_liked_indices = df_desc.index[df_desc['id'].isin(self.profile)]\n",
    "        recommendations_indices = sorted_similarity_scores_df.drop(user_liked_indices).head(self.limit).index\n",
    "        final_recommendations = pd.DataFrame({\n",
    "            'app_id': df_desc.loc[recommendations_indices, 'id'].values,\n",
    "            'similarity_score': sorted_similarity_scores_df.loc[recommendations_indices].values.flatten()\n",
    "        })\n",
    "        print(final_recommendations)\n",
    "        return final_recommendations['app_id']\n",
    "\n",
    "\n"
   ],
   "metadata": {
    "collapsed": false,
    "ExecuteTime": {
     "end_time": "2023-11-08T13:43:20.550548400Z",
     "start_time": "2023-11-08T13:43:20.527345100Z"
    }
   }
  },
  {
   "cell_type": "code",
   "execution_count": 586,
   "outputs": [
    {
     "name": "stdout",
     "output_type": "stream",
     "text": [
      "0      open_world rpg story_rich atmospheric mature f...\n",
      "175    open_world action multiplayer crime automobile...\n",
      "180    city_builder simulation building management st...\n",
      "Name: tags, dtype: object\n",
      "     app_id  similarity_score\n",
      "0    352550          0.097705\n",
      "1    543900          0.055397\n",
      "2       420          0.051354\n",
      "3    306130          0.046683\n",
      "4    239140          0.046102\n",
      "5    638970          0.045617\n",
      "6    323190          0.041700\n",
      "7    555220          0.039071\n",
      "8    427520          0.038571\n",
      "9    282560          0.037958\n",
      "10       70          0.036021\n",
      "11   385560          0.035557\n",
      "12   613100          0.033401\n",
      "13   339800          0.032696\n",
      "14   792990          0.032626\n",
      "15   526870          0.032405\n",
      "16   281990          0.031981\n",
      "17   671510          0.031916\n",
      "18   595520          0.031845\n",
      "19   834910          0.031652\n",
      "20   570940          0.030449\n",
      "21   787480          0.029983\n",
      "22   583950          0.029889\n",
      "23   582010          0.029592\n",
      "24     8870          0.029120\n",
      "25   552520          0.028918\n",
      "26   730310          0.028283\n",
      "27  1017900          0.028268\n",
      "28   527230          0.027615\n",
      "29   701160          0.027356\n"
     ]
    },
    {
     "data": {
      "text/plain": "0      352550\n1      543900\n2         420\n3      306130\n4      239140\n5      638970\n6      323190\n7      555220\n8      427520\n9      282560\n10         70\n11     385560\n12     613100\n13     339800\n14     792990\n15     526870\n16     281990\n17     671510\n18     595520\n19     834910\n20     570940\n21     787480\n22     583950\n23     582010\n24       8870\n25     552520\n26     730310\n27    1017900\n28     527230\n29     701160\nName: app_id, dtype: int64"
     },
     "execution_count": 586,
     "metadata": {},
     "output_type": "execute_result"
    }
   ],
   "source": [
    "user = User(0,76561199028326951)\n",
    "user.hot_start()\n",
    "user.run_model()\n"
   ],
   "metadata": {
    "collapsed": false,
    "ExecuteTime": {
     "end_time": "2023-11-08T13:43:22.436357Z",
     "start_time": "2023-11-08T13:43:22.407104200Z"
    }
   }
  },
  {
   "cell_type": "markdown",
   "source": [
    "__UI MODULE__"
   ],
   "metadata": {
    "collapsed": false
   }
  },
  {
   "cell_type": "code",
   "execution_count": 543,
   "outputs": [],
   "source": [
    "import ipywidgets as widgets\n",
    "from IPython.display import display, clear_output\n",
    "import random\n",
    "\n",
    "class SteamGameRecommenderUI:\n",
    "    def __init__(self):\n",
    "        self.user_id = None\n",
    "        self.df_reviews = df_reviews\n",
    "        self.df_tags = df_tags\n",
    "        self.df_desc = df_desc\n",
    "        self.current_page = 0\n",
    "        self.login_input = widgets.Text(description='User ID:')\n",
    "        self.login_button = widgets.Button(description='Login')\n",
    "        self.next_page_button = widgets.Button(description='Next Page')\n",
    "        self.search_input = widgets.Text(description='Search Game:')\n",
    "        self.search_button = widgets.Button(description='Search')\n",
    "        self.output_area = widgets.Output()\n",
    "\n",
    "        # 绑定事件\n",
    "        self.login_button.on_click(self.on_login_clicked)\n",
    "        self.next_page_button.on_click(self.on_next_page_clicked)\n",
    "        self.search_button.on_click(self.on_search_clicked)\n",
    "\n",
    "\n",
    "    def display(self):\n",
    "        display(self.login_input, self.login_button, self.output_area)\n",
    "\n",
    "    def on_login_clicked(self, b):\n",
    "        self.user_id = self.login_input.value\n",
    "        self.display_recommended_games()\n",
    "\n",
    "    def display_recommended_games(self):\n",
    "        with self.output_area:\n",
    "            clear_output()\n",
    "            display(self.next_page_button)\n",
    "            display(self.search_input, self.search_button)\n",
    "            games_vbox = widgets.VBox()\n",
    "            recommended_games = self.get_recommended_games()\n",
    "            for game in recommended_games:\n",
    "                game_label = widgets.Label(f'{game[\"id\"]}: {game[\"name\"]}')\n",
    "                like_button = widgets.Button(description='Like')\n",
    "                dislike_button = widgets.Button(description='Dislike')\n",
    "                like_button.on_click(self.on_like_clicked)\n",
    "                dislike_button.on_click(self.on_dislike_clicked)\n",
    "                game_hbox = widgets.HBox([game_label, like_button, dislike_button])\n",
    "                games_vbox.children += (game_hbox,)\n",
    "            display(games_vbox)\n",
    "\n",
    "    def get_recommended_games(self):\n",
    "        start = self.current_page * 10\n",
    "        end = start + 10\n",
    "        return self.games_db[start:end]\n",
    "\n",
    "    def on_next_page_clicked(self, b):\n",
    "        self.current_page += 1\n",
    "        self.display_recommended_games()\n",
    "\n",
    "    def on_search_clicked(self, b):\n",
    "        search_query = self.search_input.value\n",
    "        with self.output_area:\n",
    "            clear_output()\n",
    "            print(f\"Search results for '{search_query}':\")\n",
    "            for game in random.sample(self.games_db, 5):\n",
    "                print(f'{game[\"id\"]}: {game[\"name\"]}')\n",
    "\n",
    "    def on_like_clicked(self, b):\n",
    "        print(\"Liked!\")\n",
    "\n",
    "    def on_dislike_clicked(self, b):\n",
    "        print(\"Disliked!\")\n",
    "\n",
    "# ui = SteamGameRecommenderUI()\n",
    "# ui.display()\n"
   ],
   "metadata": {
    "collapsed": false,
    "ExecuteTime": {
     "end_time": "2023-11-08T13:08:03.501136200Z",
     "start_time": "2023-11-08T13:08:03.463164600Z"
    }
   }
  }
 ],
 "metadata": {
  "kernelspec": {
   "display_name": "Python 3",
   "language": "python",
   "name": "python3"
  },
  "language_info": {
   "codemirror_mode": {
    "name": "ipython",
    "version": 2
   },
   "file_extension": ".py",
   "mimetype": "text/x-python",
   "name": "python",
   "nbconvert_exporter": "python",
   "pygments_lexer": "ipython2",
   "version": "2.7.6"
  }
 },
 "nbformat": 4,
 "nbformat_minor": 0
}

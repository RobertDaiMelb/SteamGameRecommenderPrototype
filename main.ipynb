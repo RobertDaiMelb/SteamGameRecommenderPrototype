{
 "cells": [
  {
   "cell_type": "markdown",
   "source": [
    "__COMP9727 PROJECT:A STEAM GAME RECOMMENDER SYSTEM__\n"
   ],
   "metadata": {
    "collapsed": false
   }
  },
  {
   "cell_type": "markdown",
   "source": [
    "# Introduction\n",
    "This model is a recommender system for Steam games. It is based on the dataset from Steam, which is a digital distribution platform for video games. The dataset contains 316 games and 21 million users. The recommender system is based on collaborative filtering and content based model. The system integrates the recommender module and a user interaction module."
   ],
   "metadata": {
    "collapsed": false
   }
  },
  {
   "cell_type": "markdown",
   "source": [
    "__PIPELINE__:\n",
    "1. Data preprocessing, Analysis and Visualization\n",
    "2. Extracting features from the game dataset, build feature vectors for games. The item vector is a hierarchical structure. First, for the description, use text vectorization technology (such as TF-IDF or Word2Vec) to process the description text of the game to generate a dense numerical vector for each game. For Tags, we still use TF-IDF. But since the game tag describes the game more significantly, we manually increase the TF-IDF weight of the tag."
   ],
   "metadata": {
    "collapsed": false
   }
  },
  {
   "cell_type": "markdown",
   "source": [
    "__Inporting Libraries__"
   ],
   "metadata": {
    "collapsed": false
   }
  },
  {
   "cell_type": "code",
   "execution_count": 1,
   "outputs": [],
   "source": [
    "import pandas as pd\n",
    "from sklearn.feature_extraction.text import TfidfVectorizer"
   ],
   "metadata": {
    "collapsed": false,
    "ExecuteTime": {
     "end_time": "2023-11-13T04:03:10.595085600Z",
     "start_time": "2023-11-13T04:03:08.704101800Z"
    }
   }
  },
  {
   "cell_type": "markdown",
   "source": [
    "__Data Preprocessing__"
   ],
   "metadata": {
    "collapsed": false
   }
  },
  {
   "cell_type": "code",
   "execution_count": 2,
   "outputs": [],
   "source": [
    "file_path_reviews = \"new_steam_reviews.csv\"\n",
    "file_path_desc = \"new_desc.csv\"\n",
    "file_path_tags = \"new_tags.csv\"\n",
    "\n",
    "df_reviews = pd.read_csv(file_path_reviews)\n",
    "df_desc = pd.read_csv(file_path_desc)\n",
    "df_tags = pd.read_csv(file_path_tags)"
   ],
   "metadata": {
    "collapsed": false,
    "ExecuteTime": {
     "end_time": "2023-11-13T04:03:39.500381800Z",
     "start_time": "2023-11-13T04:03:10.567254400Z"
    }
   }
  },
  {
   "cell_type": "code",
   "execution_count": 3,
   "outputs": [
    {
     "name": "stdout",
     "output_type": "stream",
     "text": [
      "         id                                  short_description\n",
      "0        70  This mod is to run Half-Life 2: Update (itself...\n",
      "1       240  Counter-Strike: Source blends Counter-Strike's...\n",
      "2       420  The second episodic sequel to one of the most ...\n",
      "3       620  Get Portal™2 In Motion™, Adventure, Puzzle, Sh...\n",
      "4      2870  In the distant future, the X universe faces a ...\n",
      "..      ...                                                ...\n",
      "270  355790  Embark upon a stealthy adventure with new enem...\n",
      "271  574050  \"DRAGON QUEST HEROES II is a hack-and-slash, f...\n",
      "272  572410  Steel Division: Normandy 44 is a Tactical Real...\n",
      "273  421020  Dirt 4 is all about embracing danger. It’s abo...\n",
      "274  546560  Half-Life: Alyx is Valve’s VR return to the Ha...\n",
      "\n",
      "[275 rows x 2 columns]\n",
      "     app_id                                               tags\n",
      "0        70                                        ['Shooter']\n",
      "1       240                                        ['Shooter']\n",
      "2       420                             ['Shooter', ' Puzzle']\n",
      "3       620               ['Shooter', ' Puzzle', ' Adventure']\n",
      "4      2870  ['Shooter', ' Real Time Strategy (RTS)', ' Sim...\n",
      "..      ...                                                ...\n",
      "270  355790               ['Role-playing (RPG)', ' Adventure']\n",
      "271  574050  ['Role-playing (RPG)', \" Hack and slash/Beat '...\n",
      "272  572410  ['Real Time Strategy (RTS)', ' Simulator', ' S...\n",
      "273  421020                 ['Racing', ' Simulator', ' Sport']\n",
      "274  546560               ['Shooter', ' Puzzle', ' Adventure']\n",
      "\n",
      "[275 rows x 2 columns]\n"
     ]
    }
   ],
   "source": [
    "print(df_desc)\n",
    "print(df_tags)"
   ],
   "metadata": {
    "collapsed": false,
    "ExecuteTime": {
     "end_time": "2023-11-13T04:03:39.515118700Z",
     "start_time": "2023-11-13T04:03:39.500887600Z"
    }
   }
  },
  {
   "cell_type": "markdown",
   "source": [
    "__Clean the data__"
   ],
   "metadata": {
    "collapsed": false
   }
  },
  {
   "cell_type": "code",
   "execution_count": 4,
   "outputs": [],
   "source": [
    "import ast\n",
    "import re\n",
    "def tags_preprocess(tag):\n",
    "    tag = ast.literal_eval(tag)\n",
    "    tag = [x.lower() for x in tag]\n",
    "    tag = [x.replace(' ', '_') for x in tag]\n",
    "    tag = [x.replace('-', '_') for x in tag]\n",
    "    tag = ' '.join(tag)\n",
    "    return tag\n",
    "def desc_preprocess(desc):\n",
    "    desc = '' if pd.isna(desc) else str(desc)\n",
    "    desc = desc.lower()\n",
    "    desc = re.sub(r'[^\\w\\s]', '', desc)  # Remove punctuation\n",
    "    words = desc.split()  # Tokenize by splitting on whitespace\n",
    "    return ' '.join(words)"
   ],
   "metadata": {
    "collapsed": false,
    "ExecuteTime": {
     "end_time": "2023-11-13T04:03:39.575530800Z",
     "start_time": "2023-11-13T04:03:39.515118700Z"
    }
   }
  },
  {
   "cell_type": "code",
   "execution_count": 5,
   "outputs": [],
   "source": [
    "# df_desc = df_desc.dropna(subset=['short_description'])\n",
    "df_tags['tags'] = df_tags['tags'].apply(lambda x: tags_preprocess(x))\n",
    "df_desc['short_description'] = df_desc['short_description'].apply(desc_preprocess)"
   ],
   "metadata": {
    "collapsed": false,
    "ExecuteTime": {
     "end_time": "2023-11-13T04:03:39.588785600Z",
     "start_time": "2023-11-13T04:03:39.532814200Z"
    }
   }
  },
  {
   "cell_type": "markdown",
   "source": [
    "__Extracting Features from the description dataset and the tags dataset__"
   ],
   "metadata": {
    "collapsed": false
   }
  },
  {
   "cell_type": "code",
   "execution_count": 6,
   "outputs": [
    {
     "name": "stdout",
     "output_type": "stream",
     "text": [
      "id                                                              578080\n",
      "short_description    pubg battlegrounds is a battle royale shooter ...\n",
      "Name: 161, dtype: object\n"
     ]
    }
   ],
   "source": [
    "print(df_desc.loc[161])"
   ],
   "metadata": {
    "collapsed": false,
    "ExecuteTime": {
     "end_time": "2023-11-13T04:03:39.589792400Z",
     "start_time": "2023-11-13T04:03:39.548046700Z"
    }
   }
  },
  {
   "cell_type": "code",
   "execution_count": 7,
   "outputs": [
    {
     "name": "stdout",
     "output_type": "stream",
     "text": [
      "  (0, 2342)\t0.34266551688316627\n",
      "  (0, 2557)\t0.20954880668834158\n",
      "  (0, 3875)\t0.31922482778360933\n",
      "  (0, 1695)\t0.5793861041476892\n",
      "  (0, 3115)\t0.2557120159913009\n",
      "  (0, 2345)\t0.5793861041476892\n",
      "  (1, 1561)\t0.19705558180487137\n",
      "  (1, 2403)\t0.19705558180487137\n",
      "  (1, 2657)\t0.15540662450806467\n",
      "  (1, 1975)\t0.1835756183978875\n",
      "  (1, 3375)\t0.19705558180487137\n",
      "  (1, 2451)\t0.08627417555433464\n",
      "  (1, 1644)\t0.15096728250238467\n",
      "  (1, 281)\t0.15096728250238467\n",
      "  (1, 3442)\t0.1835756183978875\n",
      "  (1, 1394)\t0.12590762604844555\n",
      "  (1, 3619)\t0.29410301067932054\n",
      "  (1, 139)\t0.15540662450806467\n",
      "  (1, 106)\t0.20572695279440442\n",
      "  (1, 3609)\t0.19705558180487137\n",
      "  (1, 341)\t0.16053146874664415\n",
      "  (1, 824)\t0.19705558180487137\n",
      "  (1, 450)\t0.19705558180487137\n",
      "  (1, 3377)\t0.5220342964608841\n",
      "  (1, 823)\t0.39411116360974274\n",
      "  :\t:\n",
      "  (274, 1178)\t0.14277292503568564\n",
      "  (274, 3906)\t0.14277292503568564\n",
      "  (274, 2854)\t0.14277292503568564\n",
      "  (274, 1886)\t0.14277292503568564\n",
      "  (274, 3904)\t0.14277292503568564\n",
      "  (274, 198)\t0.2855458500713713\n",
      "  (274, 3010)\t0.13300627043315402\n",
      "  (274, 3971)\t0.12607671871392817\n",
      "  (274, 1140)\t0.12607671871392817\n",
      "  (274, 3930)\t0.12607671871392817\n",
      "  (274, 2379)\t0.12607671871392817\n",
      "  (274, 2065)\t0.10938051239217073\n",
      "  (274, 1143)\t0.10654340950886493\n",
      "  (274, 720)\t0.12070174082091847\n",
      "  (274, 523)\t0.11259695436036798\n",
      "  (274, 3028)\t0.11631006411139655\n",
      "  (274, 179)\t0.10938051239217073\n",
      "  (274, 1382)\t0.12607671871392817\n",
      "  (274, 722)\t0.10654340950886493\n",
      "  (274, 3229)\t0.16386870056878763\n",
      "  (274, 1417)\t0.08193435028439382\n",
      "  (274, 3471)\t0.08984720318710748\n",
      "  (274, 3224)\t0.0759880997486558\n",
      "  (274, 1266)\t0.19922771557927818\n",
      "  (274, 1695)\t0.7242104449255108\n"
     ]
    }
   ],
   "source": [
    "import ast\n",
    "tfidf_vectorizer_desc = TfidfVectorizer(stop_words='english')\n",
    "tfidf_matrix_desc = tfidf_vectorizer_desc.fit_transform(df_desc['short_description'].tolist())\n",
    "print(tfidf_matrix_desc)"
   ],
   "metadata": {
    "collapsed": false,
    "ExecuteTime": {
     "end_time": "2023-11-13T04:03:39.597614400Z",
     "start_time": "2023-11-13T04:03:39.575530800Z"
    }
   }
  },
  {
   "cell_type": "markdown",
   "source": [
    "Create user class. The user class takes user model as input. A user could be an existed user in our reviews data set either a new user, needing cold start which will be implemented later."
   ],
   "metadata": {
    "collapsed": false
   }
  },
  {
   "cell_type": "code",
   "execution_count": 18,
   "outputs": [],
   "source": [
    "from sklearn.metrics.pairwise import cosine_similarity\n",
    "from collections import Counter\n",
    "import pandas as pd\n",
    "\n",
    "class User:\n",
    "    def __init__(self, user_mod, user_id):\n",
    "        self.user_mod = user_mod\n",
    "        self.user_id = user_id\n",
    "        self.profile = []  # This array contains game ids.\n",
    "        self.feature_arr = None  # Feature array (TF-IDF) depends on the profile array.\n",
    "        self.recommendations = []\n",
    "        self.liked_tags = Counter()\n",
    "        self.limit = 100\n",
    "        self.total_sum = 0\n",
    "\n",
    "    def hot_start(self):\n",
    "        df_user_reviews = df_reviews[(df_reviews['author.steamid'] == self.user_id)]\n",
    "        for app_id in df_user_reviews['app_id'].values:\n",
    "            self.like_game(app_id)\n",
    "\n",
    "\n",
    "    def cold_start(self):\n",
    "        # Implement cold start logic if needed\n",
    "        pass\n",
    "\n",
    "    def update_profile(self, app_id):\n",
    "        self.profile.append(app_id)\n",
    "        # Get tags for the new game and update tag counts\n",
    "        new_game_tags = df_tags[df_tags['app_id'] == app_id]['tags'].iloc[0].split()\n",
    "        self.liked_tags.update(new_game_tags)\n",
    "        self.generate_new_profile_vector()\n",
    "\n",
    "    def generate_new_profile_vector(self):\n",
    "        desc = df_desc.loc[df_desc['id'].isin(self.profile)]\n",
    "        self.feature_arr = tfidf_vectorizer_desc.transform(desc['short_description'])\n",
    "\n",
    "\n",
    "    def like_game(self, app_id):\n",
    "        # if not app_id in self.profile:\n",
    "        self.update_profile(app_id)\n",
    "\n",
    "    def run_model(self):\n",
    "        cosine_similarities = cosine_similarity(self.feature_arr, tfidf_matrix_desc)\n",
    "        adjusted_similarity_scores = []\n",
    "\n",
    "        for game_idx, game_id in enumerate(df_desc['id']):\n",
    "            #if game_id not in self.profile:  # Skip games already liked\n",
    "            custom_weight = self.calculate_custom_weight(game_id)\n",
    "            adjusted_score = (cosine_similarities[0][game_idx]+1) * custom_weight\n",
    "            adjusted_similarity_scores.append((game_id, adjusted_score))\n",
    "\n",
    "        # Create a DataFrame from the adjusted scores\n",
    "        similarity_scores_df = pd.DataFrame(adjusted_similarity_scores, columns=['game_id', 'similarity_score'])\n",
    "        sorted_similarity_scores_df = similarity_scores_df.sort_values(by='similarity_score', ascending=False)\n",
    "        print(sorted_similarity_scores_df)\n",
    "        top_recommendations_indices = sorted_similarity_scores_df[~sorted_similarity_scores_df['game_id'].isin(self.profile)].head(self.limit).index\n",
    "\n",
    "\n",
    "        final_recommendations = pd.DataFrame({\n",
    "            'app_id': df_desc.loc[top_recommendations_indices]['id']\n",
    "        })\n",
    "\n",
    "        # Store the recommendations\n",
    "        self.recommendations = final_recommendations\n",
    "        return self.recommendations['app_id'].values\n",
    "\n",
    "    def calculate_custom_weight(self, game_id):\n",
    "        game_tags_list = df_tags[df_tags['app_id'] == game_id]['tags'].iloc[0].split()\n",
    "        weight_sum = 0\n",
    "        total_sum = sum(dict(self.liked_tags).values())\n",
    "        for tag in game_tags_list:\n",
    "            if tag in dict(self.liked_tags):\n",
    "                weight_sum += self.liked_tags[tag]\n",
    "        return (weight_sum/total_sum) if total_sum > 0 else 0\n",
    "\n",
    "\n"
   ],
   "metadata": {
    "collapsed": false,
    "ExecuteTime": {
     "end_time": "2023-11-13T07:15:20.467262700Z",
     "start_time": "2023-11-13T07:15:20.431860300Z"
    }
   }
  },
  {
   "cell_type": "code",
   "execution_count": 17,
   "outputs": [
    {
     "name": "stdout",
     "output_type": "stream",
     "text": [
      "     game_id  similarity_score\n",
      "96     48700          1.636364\n",
      "187   105600          0.909091\n",
      "31    834910          0.860994\n",
      "193   440900          0.740848\n",
      "168   346110          0.738760\n",
      "..       ...               ...\n",
      "183   712100          0.000000\n",
      "243   225540          0.000000\n",
      "25    583950          0.000000\n",
      "179   356190          0.000000\n",
      "202   304390          0.000000\n",
      "\n",
      "[275 rows x 2 columns]\n"
     ]
    },
    {
     "data": {
      "text/plain": "array([  48700,  105600,  834910,  440900,  346110,  433340,  466560,\n        518790,  629910,  339800,  590380,  701160,  758190,  773951,\n        283640,  552500, 1017900,  240720,  420290,  477160,  512900,\n        113200,  252490,  206190,  428550,  609320,  250900,  508440,\n        233860,  526160,  666140,  428690,    2870,  772540,  322330,\n        413150,  236510,  541210,  646570,    7510,  294100,  581320,\n        275850,  272270,  585420,  212680,  420530,  107410,  555220,\n        239140,  258180,  644930,  526870,  337340,  704850,  698780,\n        311690, 1158310,  253230,  281990,  394360,  236850,   39210,\n        723390,  524580,  250760,  213670,  435150,  214950,  205100,\n        572410,  548430,  447820,  875210,  362890,  588650,  683320,\n        285190,  247240,  367520,  493340,  760060,  638970,  332200,\n        400940,  200900,  214560,  322110,  527230,  583470,  753420,\n        688130,  393520,  504230,  495560,  219740,  857980,  863550,\n        690830,  377160], dtype=int64)"
     },
     "execution_count": 17,
     "metadata": {},
     "output_type": "execute_result"
    }
   ],
   "source": [
    "user = User(0,76561198030238209)\n",
    "user.hot_start()\n",
    "user.run_model()\n",
    "\n"
   ],
   "metadata": {
    "collapsed": false,
    "ExecuteTime": {
     "end_time": "2023-11-13T07:12:13.420583700Z",
     "start_time": "2023-11-13T07:12:13.341603900Z"
    }
   }
  },
  {
   "cell_type": "code",
   "execution_count": 10,
   "outputs": [],
   "source": [
    "df_games= df_reviews.drop_duplicates(subset='app_id')"
   ],
   "metadata": {
    "collapsed": false,
    "ExecuteTime": {
     "end_time": "2023-11-13T04:03:40.104157800Z",
     "start_time": "2023-11-13T04:03:39.869621200Z"
    }
   }
  },
  {
   "cell_type": "markdown",
   "source": [
    "__UI MODULE__"
   ],
   "metadata": {
    "collapsed": false
   }
  },
  {
   "cell_type": "code",
   "execution_count": 20,
   "outputs": [
    {
     "data": {
      "text/plain": "Text(value='', description='User ID:')",
      "application/vnd.jupyter.widget-view+json": {
       "version_major": 2,
       "version_minor": 0,
       "model_id": "bda4fdeddfbb4198b94335047c961ff2"
      }
     },
     "metadata": {},
     "output_type": "display_data"
    },
    {
     "data": {
      "text/plain": "Button(description='Login', style=ButtonStyle())",
      "application/vnd.jupyter.widget-view+json": {
       "version_major": 2,
       "version_minor": 0,
       "model_id": "634d07898cc3464f96fd79a5de2bb707"
      }
     },
     "metadata": {},
     "output_type": "display_data"
    },
    {
     "data": {
      "text/plain": "Output()",
      "application/vnd.jupyter.widget-view+json": {
       "version_major": 2,
       "version_minor": 0,
       "model_id": "3a2f204f9db446fd914c40625d671dc0"
      }
     },
     "metadata": {},
     "output_type": "display_data"
    },
    {
     "data": {
      "text/plain": "76561198119772292"
     },
     "execution_count": 20,
     "metadata": {},
     "output_type": "execute_result"
    }
   ],
   "source": [
    "import ipywidgets as widgets\n",
    "from IPython.display import display, clear_output\n",
    "from IPython.display import HTML\n",
    "class SteamGameRecommenderUI:\n",
    "    def __init__(self):\n",
    "        self.temp_liked_games = set()\n",
    "        self.user_id = None\n",
    "        self.current_page = 0\n",
    "        self.user = None\n",
    "        self.recommended_games_ids = []\n",
    "        self.login_input = widgets.Text(description='User ID:')\n",
    "        self.login_button = widgets.Button(description='Login')\n",
    "        self.next_page_button = widgets.Button(description='Next Page')\n",
    "        self.previous_page_button = widgets.Button(description='Previous Page')\n",
    "        self.search_input = widgets.Text(description='Search Game:')\n",
    "        self.search_button = widgets.Button(description='Search')\n",
    "        self.output_area = widgets.Output()\n",
    "        self.refresh_button = widgets.Button(description='Refresh')\n",
    "        self.refresh_button.on_click(self.on_refresh_clicked)\n",
    "\n",
    "        self.login_button.on_click(self.on_login_clicked)\n",
    "        self.next_page_button.on_click(self.on_next_page_clicked)\n",
    "        self.previous_page_button.on_click(self.on_previous_page_clicked)\n",
    "        self.search_button.on_click(self.on_search_clicked)\n",
    "\n",
    "    def _load_games_db(self, recommendations):\n",
    "        self.recommended_games_ids = recommendations\n",
    "\n",
    "    def display(self):\n",
    "        display(self.login_input, self.login_button, self.output_area)\n",
    "\n",
    "    def on_login_clicked(self, b):\n",
    "        self.user_id = int(self.login_input.value)\n",
    "        self.user = User(0, self.user_id)\n",
    "        self.user.hot_start()\n",
    "        recommendations = self.user.run_model()\n",
    "        self._load_games_db(recommendations)\n",
    "        self.display_recommended_games()\n",
    "\n",
    "    def display_recommended_games(self):\n",
    "        with self.output_area:\n",
    "            clear_output()\n",
    "            games_vbox = widgets.VBox()\n",
    "            for game_id in self.get_recommended_games():\n",
    "                game_name = df_games.loc[df_games['app_id'] == game_id]['app_name'].tolist()[0]\n",
    "                game_label = widgets.Label(f'{game_id}: {game_name}')\n",
    "                like_button = widgets.Button(description='Like', layout=widgets.Layout(width='auto'))\n",
    "                view_button = widgets.Button(description='View', layout=widgets.Layout(width='auto'))\n",
    "\n",
    "                if game_id in self.temp_liked_games:\n",
    "                    like_button.description = 'Liked'\n",
    "                    like_button.disabled = True\n",
    "                else:\n",
    "                    like_button.description = 'Like'\n",
    "                    like_button.disabled = False\n",
    "\n",
    "                like_button.on_click(lambda b, game_id=game_id: self.on_like_clicked(b, game_id))\n",
    "                view_button.on_click(lambda b, game_id=game_id: self.display_game_details(b, game_id))\n",
    "                buttons_hbox = widgets.HBox([like_button, view_button], layout=widgets.Layout(justify_content='flex-end'))\n",
    "                game_hbox = widgets.HBox([game_label, buttons_hbox], layout=widgets.Layout(justify_content='space-between'))\n",
    "                games_vbox.children += (game_hbox,)\n",
    "\n",
    "            # 将 refresh_button 添加到导航栏中\n",
    "            navigation_box = widgets.HBox([self.previous_page_button, self.refresh_button, self.next_page_button], layout=widgets.Layout(justify_content='space-between'))\n",
    "            display(widgets.VBox([games_vbox, navigation_box]))\n",
    "\n",
    "\n",
    "    def get_recommended_games(self):\n",
    "        start = self.current_page * 10\n",
    "        end = start + 10\n",
    "        return self.recommended_games_ids[start:end]\n",
    "\n",
    "    def on_next_page_clicked(self, b):\n",
    "        self.current_page += 1\n",
    "        self.display_recommended_games()\n",
    "\n",
    "    def on_previous_page_clicked(self, b):\n",
    "        if self.current_page > 0:\n",
    "            self.current_page -= 1\n",
    "        self.display_recommended_games()\n",
    "\n",
    "    def on_back_clicked(self, b):\n",
    "        self.display_recommended_games()\n",
    "\n",
    "    def reset_current_page(self):\n",
    "        self.current_page = 0\n",
    "\n",
    "    def on_search_clicked(self, b):\n",
    "        pass\n",
    "\n",
    "    def display_game_details(self, b, game_id):\n",
    "        with self.output_area:\n",
    "            clear_output()\n",
    "            game_tags_str = df_tags[df_tags['app_id'] == game_id]['tags'].iloc[0]\n",
    "            game_tags = game_tags_str.split(' ')\n",
    "            game_desc = df_desc[df_desc['id'] == game_id]['short_description'].iloc[0]\n",
    "            tags_hbox = widgets.HBox(layout=widgets.Layout(flex_flow='row wrap', align_items='flex-start'))\n",
    "            for tag in game_tags:\n",
    "                tag = tag.replace('_', ' ').strip()\n",
    "                tag_button = widgets.Button(description=tag, disabled=True,\n",
    "                                            button_style='',\n",
    "                                            layout=widgets.Layout(width='auto', margin='2px'))\n",
    "                tags_hbox.children += (tag_button,)\n",
    "            desc_html = widgets.HTML(\n",
    "                value=f\"<strong>Description:</strong> {game_desc}\"\n",
    "            )\n",
    "\n",
    "            back_button = widgets.Button(description='Back')\n",
    "            back_button.on_click(lambda b: self.on_back_clicked(b))\n",
    "            display(widgets.VBox([tags_hbox, desc_html, back_button]))\n",
    "\n",
    "\n",
    "    def on_like_clicked(self, b, game_id):\n",
    "        self.temp_liked_games.add(game_id)\n",
    "        b.description = 'Liked'\n",
    "        b.disabled = True\n",
    "\n",
    "    # 添加新的刷新方法\n",
    "    def on_refresh_clicked(self, b):\n",
    "        for game_id in self.temp_liked_games:\n",
    "            self.user.like_game(game_id)\n",
    "        self.user.run_model()\n",
    "        self.temp_liked_games.clear()\n",
    "        recommendations = self.user.run_model()\n",
    "        self._load_games_db(recommendations)\n",
    "        self.reset_current_page()\n",
    "        self.display_recommended_games()\n",
    "\n",
    "# Usage\n",
    "ui = SteamGameRecommenderUI()\n",
    "ui.display()\n",
    "76561198119772292\n"
   ],
   "metadata": {
    "collapsed": false,
    "ExecuteTime": {
     "end_time": "2023-11-13T07:22:08.963413200Z",
     "start_time": "2023-11-13T07:22:08.913468900Z"
    }
   }
  }
 ],
 "metadata": {
  "kernelspec": {
   "display_name": "Python 3",
   "language": "python",
   "name": "python3"
  },
  "language_info": {
   "codemirror_mode": {
    "name": "ipython",
    "version": 2
   },
   "file_extension": ".py",
   "mimetype": "text/x-python",
   "name": "python",
   "nbconvert_exporter": "python",
   "pygments_lexer": "ipython2",
   "version": "2.7.6"
  }
 },
 "nbformat": 4,
 "nbformat_minor": 0
}
